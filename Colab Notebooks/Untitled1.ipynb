{
 "cells": [
  {
   "cell_type": "code",
   "execution_count": 1,
   "metadata": {},
   "outputs": [],
   "source": [
    "import numpy as np\n",
    "import matplotlib.pyplot as plt\n",
    "import pandas as pd"
   ]
  },
  {
   "cell_type": "code",
   "execution_count": 3,
   "metadata": {},
   "outputs": [
    {
     "ename": "SyntaxError",
     "evalue": "EOL while scanning string literal (<ipython-input-3-a045cd92da4d>, line 1)",
     "output_type": "error",
     "traceback": [
      "\u001b[1;36m  File \u001b[1;32m\"<ipython-input-3-a045cd92da4d>\"\u001b[1;36m, line \u001b[1;32m1\u001b[0m\n\u001b[1;33m    dataset = pd.read_csv(\"C:\\\\Users\\\\RGIPT\\\\Desktop\\\\well_log.csv)\u001b[0m\n\u001b[1;37m                                                                   ^\u001b[0m\n\u001b[1;31mSyntaxError\u001b[0m\u001b[1;31m:\u001b[0m EOL while scanning string literal\n"
     ]
    }
   ],
   "source": [
    "dataset = pd.read_csv(\"C:\\\\Users\\\\RGIPT\\\\Desktop\\\\well_log.csv)"
   ]
  },
  {
   "cell_type": "code",
   "execution_count": 5,
   "metadata": {},
   "outputs": [],
   "source": [
    "data = pd.read_csv(\"C:\\\\Users\\\\RGIPT\\\\Desktop\\\\Social_Network_Ads.csv\")"
   ]
  },
  {
   "cell_type": "code",
   "execution_count": 6,
   "metadata": {},
   "outputs": [
    {
     "data": {
      "text/html": [
       "<div>\n",
       "<style scoped>\n",
       "    .dataframe tbody tr th:only-of-type {\n",
       "        vertical-align: middle;\n",
       "    }\n",
       "\n",
       "    .dataframe tbody tr th {\n",
       "        vertical-align: top;\n",
       "    }\n",
       "\n",
       "    .dataframe thead th {\n",
       "        text-align: right;\n",
       "    }\n",
       "</style>\n",
       "<table border=\"1\" class=\"dataframe\">\n",
       "  <thead>\n",
       "    <tr style=\"text-align: right;\">\n",
       "      <th></th>\n",
       "      <th>Age</th>\n",
       "      <th>EstimatedSalary</th>\n",
       "      <th>Purchased</th>\n",
       "    </tr>\n",
       "  </thead>\n",
       "  <tbody>\n",
       "    <tr>\n",
       "      <th>0</th>\n",
       "      <td>19</td>\n",
       "      <td>19000</td>\n",
       "      <td>0</td>\n",
       "    </tr>\n",
       "    <tr>\n",
       "      <th>1</th>\n",
       "      <td>35</td>\n",
       "      <td>20000</td>\n",
       "      <td>0</td>\n",
       "    </tr>\n",
       "    <tr>\n",
       "      <th>2</th>\n",
       "      <td>26</td>\n",
       "      <td>43000</td>\n",
       "      <td>0</td>\n",
       "    </tr>\n",
       "    <tr>\n",
       "      <th>3</th>\n",
       "      <td>27</td>\n",
       "      <td>57000</td>\n",
       "      <td>0</td>\n",
       "    </tr>\n",
       "    <tr>\n",
       "      <th>4</th>\n",
       "      <td>19</td>\n",
       "      <td>76000</td>\n",
       "      <td>0</td>\n",
       "    </tr>\n",
       "  </tbody>\n",
       "</table>\n",
       "</div>"
      ],
      "text/plain": [
       "   Age  EstimatedSalary  Purchased\n",
       "0   19            19000          0\n",
       "1   35            20000          0\n",
       "2   26            43000          0\n",
       "3   27            57000          0\n",
       "4   19            76000          0"
      ]
     },
     "execution_count": 6,
     "metadata": {},
     "output_type": "execute_result"
    }
   ],
   "source": [
    "data.head()"
   ]
  },
  {
   "cell_type": "code",
   "execution_count": 8,
   "metadata": {},
   "outputs": [],
   "source": [
    "X = data.iloc[:, :-1].values"
   ]
  },
  {
   "cell_type": "code",
   "execution_count": 9,
   "metadata": {},
   "outputs": [],
   "source": [
    "datalog = pd.read_excel(\"C:\\\\Users\\\\RGIPT\\\\Desktop\\\\Book1.xlsx\")"
   ]
  },
  {
   "cell_type": "code",
   "execution_count": 10,
   "metadata": {},
   "outputs": [
    {
     "data": {
      "text/html": [
       "<div>\n",
       "<style scoped>\n",
       "    .dataframe tbody tr th:only-of-type {\n",
       "        vertical-align: middle;\n",
       "    }\n",
       "\n",
       "    .dataframe tbody tr th {\n",
       "        vertical-align: top;\n",
       "    }\n",
       "\n",
       "    .dataframe thead th {\n",
       "        text-align: right;\n",
       "    }\n",
       "</style>\n",
       "<table border=\"1\" class=\"dataframe\">\n",
       "  <thead>\n",
       "    <tr style=\"text-align: right;\">\n",
       "      <th></th>\n",
       "      <th>#Depth</th>\n",
       "      <th>BVW</th>\n",
       "      <th>COAL_FLAG</th>\n",
       "      <th>KLOGH</th>\n",
       "      <th>PHIF</th>\n",
       "      <th>SAND_FLAG</th>\n",
       "      <th>SW</th>\n",
       "      <th>VCARB</th>\n",
       "      <th>VSH</th>\n",
       "    </tr>\n",
       "  </thead>\n",
       "  <tbody>\n",
       "    <tr>\n",
       "      <th>0</th>\n",
       "      <td>#M</td>\n",
       "      <td>V/V</td>\n",
       "      <td>unitless</td>\n",
       "      <td>MD</td>\n",
       "      <td>V/V</td>\n",
       "      <td>unitless</td>\n",
       "      <td>V/V</td>\n",
       "      <td>V/V</td>\n",
       "      <td>V/V</td>\n",
       "    </tr>\n",
       "    <tr>\n",
       "      <th>1</th>\n",
       "      <td>3271</td>\n",
       "      <td>-999.25</td>\n",
       "      <td>0</td>\n",
       "      <td>-999.25</td>\n",
       "      <td>-999.25</td>\n",
       "      <td>-999.25</td>\n",
       "      <td>-999.25</td>\n",
       "      <td>-999.25</td>\n",
       "      <td>0.8769</td>\n",
       "    </tr>\n",
       "    <tr>\n",
       "      <th>2</th>\n",
       "      <td>3271.1</td>\n",
       "      <td>-999.25</td>\n",
       "      <td>0</td>\n",
       "      <td>-999.25</td>\n",
       "      <td>-999.25</td>\n",
       "      <td>-999.25</td>\n",
       "      <td>-999.25</td>\n",
       "      <td>-999.25</td>\n",
       "      <td>0.9546</td>\n",
       "    </tr>\n",
       "    <tr>\n",
       "      <th>3</th>\n",
       "      <td>3271.2</td>\n",
       "      <td>-999.25</td>\n",
       "      <td>0</td>\n",
       "      <td>-999.25</td>\n",
       "      <td>-999.25</td>\n",
       "      <td>-999.25</td>\n",
       "      <td>-999.25</td>\n",
       "      <td>-999.25</td>\n",
       "      <td>1.0114</td>\n",
       "    </tr>\n",
       "    <tr>\n",
       "      <th>4</th>\n",
       "      <td>3271.3</td>\n",
       "      <td>-999.25</td>\n",
       "      <td>0</td>\n",
       "      <td>-999.25</td>\n",
       "      <td>-999.25</td>\n",
       "      <td>-999.25</td>\n",
       "      <td>-999.25</td>\n",
       "      <td>-999.25</td>\n",
       "      <td>1.0456</td>\n",
       "    </tr>\n",
       "  </tbody>\n",
       "</table>\n",
       "</div>"
      ],
      "text/plain": [
       "   #Depth     BVW COAL_FLAG   KLOGH    PHIF SAND_FLAG      SW   VCARB     VSH\n",
       "0      #M     V/V  unitless      MD     V/V  unitless     V/V     V/V     V/V\n",
       "1    3271 -999.25         0 -999.25 -999.25   -999.25 -999.25 -999.25  0.8769\n",
       "2  3271.1 -999.25         0 -999.25 -999.25   -999.25 -999.25 -999.25  0.9546\n",
       "3  3271.2 -999.25         0 -999.25 -999.25   -999.25 -999.25 -999.25  1.0114\n",
       "4  3271.3 -999.25         0 -999.25 -999.25   -999.25 -999.25 -999.25  1.0456"
      ]
     },
     "execution_count": 10,
     "metadata": {},
     "output_type": "execute_result"
    }
   ],
   "source": [
    "datalog.head()"
   ]
  },
  {
   "cell_type": "code",
   "execution_count": 11,
   "metadata": {},
   "outputs": [
    {
     "name": "stdout",
     "output_type": "stream",
     "text": [
      "<class 'pandas.core.frame.DataFrame'>\n",
      "RangeIndex: 3611 entries, 0 to 3610\n",
      "Data columns (total 9 columns):\n",
      " #   Column     Non-Null Count  Dtype \n",
      "---  ------     --------------  ----- \n",
      " 0   #Depth     3611 non-null   object\n",
      " 1   BVW        3611 non-null   object\n",
      " 2   COAL_FLAG  3611 non-null   object\n",
      " 3   KLOGH      3611 non-null   object\n",
      " 4   PHIF       3611 non-null   object\n",
      " 5   SAND_FLAG  3611 non-null   object\n",
      " 6   SW         3611 non-null   object\n",
      " 7   VCARB      3611 non-null   object\n",
      " 8   VSH        3611 non-null   object\n",
      "dtypes: object(9)\n",
      "memory usage: 254.0+ KB\n"
     ]
    }
   ],
   "source": [
    "datalog.info()"
   ]
  },
  {
   "cell_type": "code",
   "execution_count": 13,
   "metadata": {},
   "outputs": [],
   "source": [
    "dataf= pd.read_excel(\"C:\\\\Users\\\\RGIPT\\\\Desktop\\\\Book1.xlsx\")"
   ]
  },
  {
   "cell_type": "code",
   "execution_count": 14,
   "metadata": {},
   "outputs": [
    {
     "data": {
      "text/html": [
       "<div>\n",
       "<style scoped>\n",
       "    .dataframe tbody tr th:only-of-type {\n",
       "        vertical-align: middle;\n",
       "    }\n",
       "\n",
       "    .dataframe tbody tr th {\n",
       "        vertical-align: top;\n",
       "    }\n",
       "\n",
       "    .dataframe thead th {\n",
       "        text-align: right;\n",
       "    }\n",
       "</style>\n",
       "<table border=\"1\" class=\"dataframe\">\n",
       "  <thead>\n",
       "    <tr style=\"text-align: right;\">\n",
       "      <th></th>\n",
       "      <th>#Depth</th>\n",
       "      <th>BVW</th>\n",
       "      <th>COAL_FLAG</th>\n",
       "      <th>PHIF</th>\n",
       "      <th>SAND_FLAG</th>\n",
       "      <th>SW</th>\n",
       "      <th>VCARB</th>\n",
       "      <th>VSH</th>\n",
       "      <th>KLOGH</th>\n",
       "    </tr>\n",
       "  </thead>\n",
       "  <tbody>\n",
       "    <tr>\n",
       "      <th>0</th>\n",
       "      <td>#M</td>\n",
       "      <td>V/V</td>\n",
       "      <td>unitless</td>\n",
       "      <td>V/V</td>\n",
       "      <td>unitless</td>\n",
       "      <td>V/V</td>\n",
       "      <td>V/V</td>\n",
       "      <td>V/V</td>\n",
       "      <td>MD</td>\n",
       "    </tr>\n",
       "    <tr>\n",
       "      <th>1</th>\n",
       "      <td>3319.7</td>\n",
       "      <td>0.02</td>\n",
       "      <td>0</td>\n",
       "      <td>0.02</td>\n",
       "      <td>0</td>\n",
       "      <td>1</td>\n",
       "      <td>0.012</td>\n",
       "      <td>0.7446</td>\n",
       "      <td>0.001</td>\n",
       "    </tr>\n",
       "    <tr>\n",
       "      <th>2</th>\n",
       "      <td>3319.8</td>\n",
       "      <td>0.02</td>\n",
       "      <td>0</td>\n",
       "      <td>0.02</td>\n",
       "      <td>0</td>\n",
       "      <td>1</td>\n",
       "      <td>0</td>\n",
       "      <td>0.7582</td>\n",
       "      <td>0.001</td>\n",
       "    </tr>\n",
       "    <tr>\n",
       "      <th>3</th>\n",
       "      <td>3319.9</td>\n",
       "      <td>0.02</td>\n",
       "      <td>0</td>\n",
       "      <td>0.02</td>\n",
       "      <td>0</td>\n",
       "      <td>1</td>\n",
       "      <td>0.0339</td>\n",
       "      <td>0.5477</td>\n",
       "      <td>0.0017</td>\n",
       "    </tr>\n",
       "    <tr>\n",
       "      <th>4</th>\n",
       "      <td>3320</td>\n",
       "      <td>0.0238</td>\n",
       "      <td>0</td>\n",
       "      <td>0.0238</td>\n",
       "      <td>0</td>\n",
       "      <td>1</td>\n",
       "      <td>0.1487</td>\n",
       "      <td>0.4117</td>\n",
       "      <td>0.0306</td>\n",
       "    </tr>\n",
       "  </tbody>\n",
       "</table>\n",
       "</div>"
      ],
      "text/plain": [
       "   #Depth     BVW COAL_FLAG    PHIF SAND_FLAG   SW   VCARB     VSH   KLOGH\n",
       "0      #M     V/V  unitless     V/V  unitless  V/V     V/V     V/V      MD\n",
       "1  3319.7    0.02         0    0.02         0    1   0.012  0.7446   0.001\n",
       "2  3319.8    0.02         0    0.02         0    1       0  0.7582   0.001\n",
       "3  3319.9    0.02         0    0.02         0    1  0.0339  0.5477  0.0017\n",
       "4    3320  0.0238         0  0.0238         0    1  0.1487  0.4117  0.0306"
      ]
     },
     "execution_count": 14,
     "metadata": {},
     "output_type": "execute_result"
    }
   ],
   "source": [
    "dataf.head()"
   ]
  },
  {
   "cell_type": "code",
   "execution_count": 16,
   "metadata": {},
   "outputs": [],
   "source": [
    "X = dataf.iloc[:, :-1].values"
   ]
  },
  {
   "cell_type": "code",
   "execution_count": 17,
   "metadata": {},
   "outputs": [
    {
     "data": {
      "text/plain": [
       "array([['#M', 'V/V', 'unitless', ..., 'V/V', 'V/V', 'V/V'],\n",
       "       [3319.7, 0.02, 0, ..., 1, 0.012, 0.7446],\n",
       "       [3319.8, 0.02, 0, ..., 1, 0, 0.7582],\n",
       "       ...,\n",
       "       [3606.6, 0.0312, 0, ..., 1, 0, 0.8195],\n",
       "       [3606.7, 0.0341, 0, ..., 1, 0, 0.8202],\n",
       "       [3606.8, 0.037, 0, ..., 1, 0, 0.8035]], dtype=object)"
      ]
     },
     "execution_count": 17,
     "metadata": {},
     "output_type": "execute_result"
    }
   ],
   "source": [
    "X"
   ]
  },
  {
   "cell_type": "code",
   "execution_count": 18,
   "metadata": {},
   "outputs": [
    {
     "ename": "AttributeError",
     "evalue": "'numpy.ndarray' object has no attribute 'head'",
     "output_type": "error",
     "traceback": [
      "\u001b[1;31m---------------------------------------------------------------------------\u001b[0m",
      "\u001b[1;31mAttributeError\u001b[0m                            Traceback (most recent call last)",
      "\u001b[1;32m<ipython-input-18-ae5cd47bda90>\u001b[0m in \u001b[0;36m<module>\u001b[1;34m\u001b[0m\n\u001b[1;32m----> 1\u001b[1;33m \u001b[0mX\u001b[0m\u001b[1;33m.\u001b[0m\u001b[0mhead\u001b[0m\u001b[1;33m(\u001b[0m\u001b[1;33m)\u001b[0m\u001b[1;33m\u001b[0m\u001b[1;33m\u001b[0m\u001b[0m\n\u001b[0m",
      "\u001b[1;31mAttributeError\u001b[0m: 'numpy.ndarray' object has no attribute 'head'"
     ]
    }
   ],
   "source": [
    "X.head()"
   ]
  },
  {
   "cell_type": "code",
   "execution_count": 19,
   "metadata": {},
   "outputs": [],
   "source": [
    "Y = dataf.iloc[:, -1].values"
   ]
  },
  {
   "cell_type": "code",
   "execution_count": 20,
   "metadata": {},
   "outputs": [
    {
     "data": {
      "text/plain": [
       "array(['MD', 0.001, 0.001, ..., 0.001, 0.001, 0.001], dtype=object)"
      ]
     },
     "execution_count": 20,
     "metadata": {},
     "output_type": "execute_result"
    }
   ],
   "source": [
    "Y"
   ]
  },
  {
   "cell_type": "code",
   "execution_count": 34,
   "metadata": {},
   "outputs": [],
   "source": [
    "from sklearn.model_selection import train_test_split\n",
    "X_train, X_test, Y_train, Y_test = train_test_split(X, Y, test_size = 0.25, random_state = 0)"
   ]
  },
  {
   "cell_type": "code",
   "execution_count": 35,
   "metadata": {},
   "outputs": [
    {
     "name": "stdout",
     "output_type": "stream",
     "text": [
      "[[3457.2 0.0982 0 ... 1 0.1979 0.1612]\n",
      " [3383.2 0.099 0 ... 1 0.0833 0.2513]\n",
      " [3391.9 0.0829 0 ... 1 0.0895 0.2945]\n",
      " ...\n",
      " [3484.9 0.1121 0 ... 1 0.0397 0.2515]\n",
      " [3580.3 0.0733 0 ... 1 0.0531 0.3599]\n",
      " [3592.8 0.02 0 ... 1 0 0.6926]]\n"
     ]
    }
   ],
   "source": [
    "print(X_train)"
   ]
  },
  {
   "cell_type": "code",
   "execution_count": 36,
   "metadata": {},
   "outputs": [
    {
     "name": "stdout",
     "output_type": "stream",
     "text": [
      "[0.2371 0.1312 0.0511 ... 0.2216 0.0222 0.001]\n"
     ]
    }
   ],
   "source": [
    "print(Y_train)"
   ]
  },
  {
   "cell_type": "code",
   "execution_count": 37,
   "metadata": {},
   "outputs": [
    {
     "data": {
      "text/plain": [
       "array([[3375.9, 0.1314, 0, ..., 1, 0.0406, 0.189],\n",
       "       [3404.8, 0.0643, 0, ..., 1, 0.1853, 0.2676],\n",
       "       [3546.7, 0.0334, 0, ..., 1, 0, 0.5708],\n",
       "       ...,\n",
       "       [3597, 0.0431, 0, ..., 1, 0, 0.7568],\n",
       "       [3482.8, 0.0745, 0, ..., 1, 0.2294, 0.2059],\n",
       "       [3512.3, 0.1217, 0, ..., 1, 0, 0.2942]], dtype=object)"
      ]
     },
     "execution_count": 37,
     "metadata": {},
     "output_type": "execute_result"
    }
   ],
   "source": [
    "X_test"
   ]
  },
  {
   "cell_type": "code",
   "execution_count": 27,
   "metadata": {},
   "outputs": [
    {
     "data": {
      "text/plain": [
       "array([0.7394, 0.0292, 0.001, 26.4273, 0.001, 0.0471, 4.0667, 0.001,\n",
       "       0.0304, 0.1829, 0.001, 0.1488, 191.4118, 0.001, 7.7219, 0.1384,\n",
       "       0.001, 1.1794, 0.001, 0.0273, 0.9972, 0.0088, 0.1121, 0.0015,\n",
       "       0.0048, 0.0825, 0.114, 0.2554, 0.0615, 0.031, 0.1504, 0.001, 0.208,\n",
       "       0.4128, 0.001, 0.0571, 0.001, 0.0279, 0.043, 0.001, 0.0485, 0.5425,\n",
       "       0.0445, 0.018, 0.001, 0.001, 0.0053, 0.001, 0.1544, 0.1491, 0.024,\n",
       "       8.1756, 0.001, 6.9661, 0.2082, 0.0331, 0.0135, 0.0252, 0.1008,\n",
       "       0.7431, 0.001, 0.4654, 0.001, 0.0242, 0.0029, 0.001, 0.0587,\n",
       "       50.5954, 0.001, 0.0196, 0.0127, 2.6135, 0.001, 0.043, 0.0361,\n",
       "       0.7646, 0.001, 3.5054, 0.001, 0.0282, 0.001, 0.001, 0.2883, 0.0165,\n",
       "       0.1859, 0.001, 1.1075, 0.0444, 0.0275, 0.001, 0.0015, 0.0119,\n",
       "       0.0259, 0.4921, 0.0295, 0.1408, 0.0747, 29.4909, 0.0729, 0.001,\n",
       "       0.0257, 0.001, 0.0949, 91.896, 0.027, 4.0123, 0.1346, 0.0604,\n",
       "       0.001, 0.001, 0.1112, 1.003, 0.1591, 0.1848, 0.2863, 7.9985, 0.015,\n",
       "       0.0205, 1.2882, 2.3287, 0.001, 1.2268, 0.0909, 0.1337, 0.001,\n",
       "       4.6771, 1.0639, 0.0316, 5.8095, 0.0028, 1.9007, 0.0609, 0.0032,\n",
       "       0.001, 0.3342, 0.0646, 0.0484, 0.0103, 8.4247, 2.8592, 0.0926,\n",
       "       0.7681, 0.6749, 46.2764, 0.0017, 15.124, 0.0979, 0.9536, 0.0281,\n",
       "       39.0959, 0.001, 0.0626, 0.0013, 0.001, 0.0015, 0.001, 0.8678,\n",
       "       0.0609, 0.5457, 0.001, 4.0719, 0.0317, 2.0626, 0.001, 0.0717,\n",
       "       0.1226, 2.2089, 0.1952, 0.0527, 0.038, 0.3814, 0.8242, 1.3446,\n",
       "       5.6706, 0.001, 0.001, 0.009, 0.0901, 0.001, 4.9154, 0.001, 0.2648,\n",
       "       795.337, 0.001, 0.001, 6.594, 0.2358, 0.001, 0.0766, 0.001, 0.042,\n",
       "       0.0115, 0.8599, 0.3612, 0.0339, 0.0216, 0.0042, 0.0125, 7.1827,\n",
       "       0.5947, 0.0169, 0.1079, 0.0907, 38.8214, 0.1016, 0.0049, 0.0263,\n",
       "       0.0067, 6.243, 0.1181, 0.001, 4.996, 0.001, 0.0193, 0.0341, 0.6389,\n",
       "       0.442, 3.2907, 0.0193, 0.001, 0.3651, 0.001, 0.0645, 0.0012, 0.001,\n",
       "       0.036, 0.143, 0.0428, 1.9326, 0.0625, 0.0176, 0.001, 0.0202,\n",
       "       0.0209, 0.001, 0.001, 0.001, 2.4719, 0.1536, 0.0253, 0.1313,\n",
       "       5.0811, 0.1045, 0.0383, 0.0075, 0.0578, 0.0277, 353.8331, 0.0807,\n",
       "       0.0029, 0.001, 0.4002, 0.001, 0.001, 0.0549, 3.6246, 0.04, 0.0165,\n",
       "       0.0196, 0.4588, 0.001, 3.329, 0.001, 0.0039, 0.8769, 1.3968,\n",
       "       39.4205, 0.0077, 0.1892, 0.0289, 2.978, 0.0145, 0.0354, 0.001,\n",
       "       1.1264, 0.001, 0.2061, 0.0164, 0.001, 5.404, 0.0182, 0.001, 0.1959,\n",
       "       0.0877, 0.4652, 0.001, 0.0159, 0.7647, 1.1471, 0.001, 0.9499,\n",
       "       0.0164, 0.0177, 0.2288, 0.0032, 0.001, 0.001, 0.0551, 0.001, 0.001,\n",
       "       0.001, 0.001, 0.0701, 0.0576, 0.5309, 0.0901, 0.0112, 0.001, 0.001,\n",
       "       0.0321, 12.1011, 0.001, 0.3835, 0.0453, 8.3816, 0.0176, 16.7083,\n",
       "       0.001, 0.235, 0.0279, 0.001, 0.7547, 0.1404, 3.2555, 0.0173,\n",
       "       0.2166, 0.0279, 0.4, 0.001, 0.001, 0.7994, 0.0646, 0.001, 0.001,\n",
       "       0.1855, 0.7925, 0.7132, 0.001, 0.001, 0.0056, 0.001, 0.1735,\n",
       "       1.4534, 0.3952, 0.0229, 0.0253, 0.001, 0.0269, 0.0098, 0.0178,\n",
       "       0.5885, 0.0109, 0.0097, 0.6961, 1.0651, 0.0034, 0.0334, 0.001,\n",
       "       9.6629, 0.1052, 0.0338, 0.0067, 0.5809, 0.115, 0.0035, 0.001,\n",
       "       12.7786, 0.008, 0.0571, 0.001, 0.0101, 0.1329, 0.001, 0.0108,\n",
       "       0.0156, 0.001, 0.062, 0.0058, 0.001, 0.019, 11.5444, 0.0295,\n",
       "       0.0073, 0.0221, 0.6127, 0.001, 0.001, 0.001, 2.7271, 0.0636, 0.001,\n",
       "       0.1676, 0.0397, 0.0741, 0.1984, 0.001, 0.001, 7.9863, 2.1782,\n",
       "       0.0143, 13.8448, 0.0643, 0.0649, 0.001, 9.1498, 0.001, 163.9106,\n",
       "       0.005, 1.2037, 0.001, 0.1659, 0.02, 0.001, 0.001, 0.0502, 0.0575,\n",
       "       0.001, 48.7983, 0.0255, 0.1146, 0.0486, 0.1226, 0.0231, 0.0348,\n",
       "       0.001, 0.2469, 0.001, 6.7763, 0.001, 0.0273, 0.4066, 0.2671,\n",
       "       32.9715, 0.001, 1.2753, 4.4859, 0.0126, 0.0189, 0.0081, 1.3079,\n",
       "       0.4127, 4.7436, 0.0594, 4.7851, 0.1575, 0.769, 0.001, 0.0176,\n",
       "       0.0701, 0.2099, 0.082, 0.001, 0.0346, 1111.0055, 0.0192, 0.2136,\n",
       "       0.0118, 0.0833, 0.0207, 0.9278, 0.001, 0.001, 0.1798, 0.2184,\n",
       "       0.0451, 0.001, 0.2932, 0.3708, 0.0209, 0.001, 0.001, 0.001, 0.001,\n",
       "       0.001, 0.1203, 0.001, 0.0675, 0.1272, 0.0041, 0.001, 13.6565,\n",
       "       0.5711, 0.0018, 0.001, 0.001, 0.0352, 0.0245, 0.001, 0.0112, 0.001,\n",
       "       0.001, 0.001, 0.0287, 0.0059, 0.001, 0.117, 0.0924, 0.0177, 0.1341,\n",
       "       0.0794, 0.0032, 0.001, 0.9797, 0.1585, 0.0065, 0.0397, 0.001,\n",
       "       0.001, 0.0682, 0.5976, 0.001, 0.001, 0.001, 8.6438, 0.001, 0.001,\n",
       "       0.0277, 0.0677, 0.1447, 1.7916, 0.2653, 0.001, 1.5558, 0.001,\n",
       "       0.001, 391.2855, 0.001, 1.1229, 0.3771, 1.4244, 0.0413, 0.7272,\n",
       "       0.0919, 0.1137, 0.0711, 0.0603, 51.8703, 0.0029, 0.2207, 0.3877,\n",
       "       0.1172, 0.1666, 0.024, 0.001, 0.001, 0.0508, 0.7923, 0.0248, 0.001,\n",
       "       0.1713, 0.0409, 0.202, 0.037, 0.001, 0.0637, 0.0292, 0.001, 1.6088,\n",
       "       0.0211, 1.3172, 1.8287, 2.6394, 0.0466, 0.0295, 0.001, 0.001,\n",
       "       0.0153, 0.0095, 0.0702, 0.0121, 0.0021, 3.3181, 0.0469, 0.001,\n",
       "       37.2085, 0.84, 0.0411, 0.012, 0.051, 2.1659, 103.1714, 0.0122,\n",
       "       0.001, 0.001, 0.007, 0.1411, 0.2023, 0.1099, 0.4668, 0.001, 0.001,\n",
       "       0.0161, 0.0494, 5.6704, 0.5175, 0.0187, 0.0684, 0.0267, 0.3402,\n",
       "       5.1012, 0.1718, 0.0245, 0.0308, 0.0058, 0.001, 0.639, 0.6908,\n",
       "       0.1128, 0.0652, 0.0355, 120.5634, 0.0064, 0.001, 0.2901, 0.5604,\n",
       "       0.0192, 17.979, 0.0707, 0.0016, 0.001, 33.6128, 0.0424, 0.001,\n",
       "       0.2459, 0.0013, 0.3434, 0.017, 2.6179, 0.052, 0.5838, 2.0179,\n",
       "       0.0495, 0.001, 130.7233, 0.0284, 0.0155, 0.001, 0.001, 0.001,\n",
       "       0.001, 0.001, 0.001, 0.001, 0.2189, 0.4052, 0.166, 0.0802, 0.001,\n",
       "       1.2485, 0.001, 0.1615, 0.108, 0.0309, 0.0912, 0.0034, 0.001, 0.001,\n",
       "       0.0756, 0.0199, 0.001, 6.1612, 35.4625, 0.0521, 0.3943, 0.001,\n",
       "       0.714, 0.0351, 0.1451, 0.0869, 21.8216, 0.001, 0.0437, 0.0025,\n",
       "       0.4211, 0.0619, 0.001, 0.7945, 0.0306, 0.0499, 0.0179, 0.001,\n",
       "       0.001, 0.001, 0.0304, 0.001, 0.0151, 11.8424, 0.0117, 0.0161,\n",
       "       9.4302, 0.0565, 0.3619, 0.001, 0.8786, 0.001, 0.0834, 0.001,\n",
       "       38.7695, 0.0589, 0.7957, 0.0283, 0.001, 3.8707, 0.0291, 1.4574,\n",
       "       0.2058, 2.7925, 0.0434, 0.1202, 0.259, 0.0101, 0.0442, 0.2125,\n",
       "       0.0597, 0.0197, 0.0838, 0.001, 0.0674, 0.2428], dtype=object)"
      ]
     },
     "execution_count": 27,
     "metadata": {},
     "output_type": "execute_result"
    }
   ],
   "source": [
    "Y_test"
   ]
  },
  {
   "cell_type": "code",
   "execution_count": 38,
   "metadata": {},
   "outputs": [],
   "source": [
    "from sklearn.model_selection import train_test_split\n",
    "X_train, X_test, Y_train, Y_test = train_test_split(X, Y, test_size = 0.25, random_state = 0)"
   ]
  },
  {
   "cell_type": "code",
   "execution_count": 32,
   "metadata": {},
   "outputs": [
    {
     "data": {
      "text/html": [
       "<div>\n",
       "<style scoped>\n",
       "    .dataframe tbody tr th:only-of-type {\n",
       "        vertical-align: middle;\n",
       "    }\n",
       "\n",
       "    .dataframe tbody tr th {\n",
       "        vertical-align: top;\n",
       "    }\n",
       "\n",
       "    .dataframe thead th {\n",
       "        text-align: right;\n",
       "    }\n",
       "</style>\n",
       "<table border=\"1\" class=\"dataframe\">\n",
       "  <thead>\n",
       "    <tr style=\"text-align: right;\">\n",
       "      <th></th>\n",
       "      <th>#Depth</th>\n",
       "      <th>BVW</th>\n",
       "      <th>COAL_FLAG</th>\n",
       "      <th>PHIF</th>\n",
       "      <th>SAND_FLAG</th>\n",
       "      <th>SW</th>\n",
       "      <th>VCARB</th>\n",
       "      <th>VSH</th>\n",
       "      <th>KLOGH</th>\n",
       "    </tr>\n",
       "  </thead>\n",
       "  <tbody>\n",
       "    <tr>\n",
       "      <th>1</th>\n",
       "      <td>3319.7</td>\n",
       "      <td>0.02</td>\n",
       "      <td>0</td>\n",
       "      <td>0.02</td>\n",
       "      <td>0</td>\n",
       "      <td>1</td>\n",
       "      <td>0.012</td>\n",
       "      <td>0.7446</td>\n",
       "      <td>0.001</td>\n",
       "    </tr>\n",
       "    <tr>\n",
       "      <th>2</th>\n",
       "      <td>3319.8</td>\n",
       "      <td>0.02</td>\n",
       "      <td>0</td>\n",
       "      <td>0.02</td>\n",
       "      <td>0</td>\n",
       "      <td>1</td>\n",
       "      <td>0</td>\n",
       "      <td>0.7582</td>\n",
       "      <td>0.001</td>\n",
       "    </tr>\n",
       "    <tr>\n",
       "      <th>3</th>\n",
       "      <td>3319.9</td>\n",
       "      <td>0.02</td>\n",
       "      <td>0</td>\n",
       "      <td>0.02</td>\n",
       "      <td>0</td>\n",
       "      <td>1</td>\n",
       "      <td>0.0339</td>\n",
       "      <td>0.5477</td>\n",
       "      <td>0.0017</td>\n",
       "    </tr>\n",
       "    <tr>\n",
       "      <th>4</th>\n",
       "      <td>3320</td>\n",
       "      <td>0.0238</td>\n",
       "      <td>0</td>\n",
       "      <td>0.0238</td>\n",
       "      <td>0</td>\n",
       "      <td>1</td>\n",
       "      <td>0.1487</td>\n",
       "      <td>0.4117</td>\n",
       "      <td>0.0306</td>\n",
       "    </tr>\n",
       "    <tr>\n",
       "      <th>5</th>\n",
       "      <td>3320.1</td>\n",
       "      <td>0.0413</td>\n",
       "      <td>0</td>\n",
       "      <td>0.0413</td>\n",
       "      <td>0</td>\n",
       "      <td>1</td>\n",
       "      <td>0.1526</td>\n",
       "      <td>0.3592</td>\n",
       "      <td>0.1252</td>\n",
       "    </tr>\n",
       "    <tr>\n",
       "      <th>...</th>\n",
       "      <td>...</td>\n",
       "      <td>...</td>\n",
       "      <td>...</td>\n",
       "      <td>...</td>\n",
       "      <td>...</td>\n",
       "      <td>...</td>\n",
       "      <td>...</td>\n",
       "      <td>...</td>\n",
       "      <td>...</td>\n",
       "    </tr>\n",
       "    <tr>\n",
       "      <th>2868</th>\n",
       "      <td>3606.4</td>\n",
       "      <td>0.0308</td>\n",
       "      <td>0</td>\n",
       "      <td>0.0308</td>\n",
       "      <td>0</td>\n",
       "      <td>1</td>\n",
       "      <td>0</td>\n",
       "      <td>0.8386</td>\n",
       "      <td>0.001</td>\n",
       "    </tr>\n",
       "    <tr>\n",
       "      <th>2869</th>\n",
       "      <td>3606.5</td>\n",
       "      <td>0.0301</td>\n",
       "      <td>0</td>\n",
       "      <td>0.0301</td>\n",
       "      <td>0</td>\n",
       "      <td>1</td>\n",
       "      <td>0</td>\n",
       "      <td>0.8195</td>\n",
       "      <td>0.001</td>\n",
       "    </tr>\n",
       "    <tr>\n",
       "      <th>2870</th>\n",
       "      <td>3606.6</td>\n",
       "      <td>0.0312</td>\n",
       "      <td>0</td>\n",
       "      <td>0.0312</td>\n",
       "      <td>0</td>\n",
       "      <td>1</td>\n",
       "      <td>0</td>\n",
       "      <td>0.8195</td>\n",
       "      <td>0.001</td>\n",
       "    </tr>\n",
       "    <tr>\n",
       "      <th>2871</th>\n",
       "      <td>3606.7</td>\n",
       "      <td>0.0341</td>\n",
       "      <td>0</td>\n",
       "      <td>0.0341</td>\n",
       "      <td>0</td>\n",
       "      <td>1</td>\n",
       "      <td>0</td>\n",
       "      <td>0.8202</td>\n",
       "      <td>0.001</td>\n",
       "    </tr>\n",
       "    <tr>\n",
       "      <th>2872</th>\n",
       "      <td>3606.8</td>\n",
       "      <td>0.037</td>\n",
       "      <td>0</td>\n",
       "      <td>0.037</td>\n",
       "      <td>0</td>\n",
       "      <td>1</td>\n",
       "      <td>0</td>\n",
       "      <td>0.8035</td>\n",
       "      <td>0.001</td>\n",
       "    </tr>\n",
       "  </tbody>\n",
       "</table>\n",
       "<p>2872 rows × 9 columns</p>\n",
       "</div>"
      ],
      "text/plain": [
       "      #Depth     BVW COAL_FLAG    PHIF SAND_FLAG SW   VCARB     VSH   KLOGH\n",
       "1     3319.7    0.02         0    0.02         0  1   0.012  0.7446   0.001\n",
       "2     3319.8    0.02         0    0.02         0  1       0  0.7582   0.001\n",
       "3     3319.9    0.02         0    0.02         0  1  0.0339  0.5477  0.0017\n",
       "4       3320  0.0238         0  0.0238         0  1  0.1487  0.4117  0.0306\n",
       "5     3320.1  0.0413         0  0.0413         0  1  0.1526  0.3592  0.1252\n",
       "...      ...     ...       ...     ...       ... ..     ...     ...     ...\n",
       "2868  3606.4  0.0308         0  0.0308         0  1       0  0.8386   0.001\n",
       "2869  3606.5  0.0301         0  0.0301         0  1       0  0.8195   0.001\n",
       "2870  3606.6  0.0312         0  0.0312         0  1       0  0.8195   0.001\n",
       "2871  3606.7  0.0341         0  0.0341         0  1       0  0.8202   0.001\n",
       "2872  3606.8   0.037         0   0.037         0  1       0  0.8035   0.001\n",
       "\n",
       "[2872 rows x 9 columns]"
      ]
     },
     "execution_count": 32,
     "metadata": {},
     "output_type": "execute_result"
    }
   ],
   "source": [
    "dataf.drop(dataf.index[[0]])"
   ]
  },
  {
   "cell_type": "code",
   "execution_count": 39,
   "metadata": {},
   "outputs": [
    {
     "ename": "ValueError",
     "evalue": "could not convert string to float: '#M'",
     "output_type": "error",
     "traceback": [
      "\u001b[1;31m---------------------------------------------------------------------------\u001b[0m",
      "\u001b[1;31mValueError\u001b[0m                                Traceback (most recent call last)",
      "\u001b[1;32m<ipython-input-39-c2ac09642c45>\u001b[0m in \u001b[0;36m<module>\u001b[1;34m\u001b[0m\n\u001b[0;32m      1\u001b[0m \u001b[1;32mfrom\u001b[0m \u001b[0msklearn\u001b[0m\u001b[1;33m.\u001b[0m\u001b[0mpreprocessing\u001b[0m \u001b[1;32mimport\u001b[0m \u001b[0mStandardScaler\u001b[0m\u001b[1;33m\u001b[0m\u001b[1;33m\u001b[0m\u001b[0m\n\u001b[0;32m      2\u001b[0m \u001b[0msc\u001b[0m \u001b[1;33m=\u001b[0m \u001b[0mStandardScaler\u001b[0m\u001b[1;33m(\u001b[0m\u001b[1;33m)\u001b[0m\u001b[1;33m\u001b[0m\u001b[1;33m\u001b[0m\u001b[0m\n\u001b[1;32m----> 3\u001b[1;33m \u001b[0mX_train\u001b[0m \u001b[1;33m=\u001b[0m \u001b[0msc\u001b[0m\u001b[1;33m.\u001b[0m\u001b[0mfit_transform\u001b[0m\u001b[1;33m(\u001b[0m\u001b[0mX_train\u001b[0m\u001b[1;33m)\u001b[0m\u001b[1;33m\u001b[0m\u001b[1;33m\u001b[0m\u001b[0m\n\u001b[0m\u001b[0;32m      4\u001b[0m \u001b[0mX_test\u001b[0m \u001b[1;33m=\u001b[0m \u001b[0msc\u001b[0m\u001b[1;33m.\u001b[0m\u001b[0mtransform\u001b[0m\u001b[1;33m(\u001b[0m\u001b[0mX_test\u001b[0m\u001b[1;33m)\u001b[0m\u001b[1;33m\u001b[0m\u001b[1;33m\u001b[0m\u001b[0m\n",
      "\u001b[1;32m~\\anaconda3\\lib\\site-packages\\sklearn\\base.py\u001b[0m in \u001b[0;36mfit_transform\u001b[1;34m(self, X, y, **fit_params)\u001b[0m\n\u001b[0;32m    688\u001b[0m         \u001b[1;32mif\u001b[0m \u001b[0my\u001b[0m \u001b[1;32mis\u001b[0m \u001b[1;32mNone\u001b[0m\u001b[1;33m:\u001b[0m\u001b[1;33m\u001b[0m\u001b[1;33m\u001b[0m\u001b[0m\n\u001b[0;32m    689\u001b[0m             \u001b[1;31m# fit method of arity 1 (unsupervised transformation)\u001b[0m\u001b[1;33m\u001b[0m\u001b[1;33m\u001b[0m\u001b[1;33m\u001b[0m\u001b[0m\n\u001b[1;32m--> 690\u001b[1;33m             \u001b[1;32mreturn\u001b[0m \u001b[0mself\u001b[0m\u001b[1;33m.\u001b[0m\u001b[0mfit\u001b[0m\u001b[1;33m(\u001b[0m\u001b[0mX\u001b[0m\u001b[1;33m,\u001b[0m \u001b[1;33m**\u001b[0m\u001b[0mfit_params\u001b[0m\u001b[1;33m)\u001b[0m\u001b[1;33m.\u001b[0m\u001b[0mtransform\u001b[0m\u001b[1;33m(\u001b[0m\u001b[0mX\u001b[0m\u001b[1;33m)\u001b[0m\u001b[1;33m\u001b[0m\u001b[1;33m\u001b[0m\u001b[0m\n\u001b[0m\u001b[0;32m    691\u001b[0m         \u001b[1;32melse\u001b[0m\u001b[1;33m:\u001b[0m\u001b[1;33m\u001b[0m\u001b[1;33m\u001b[0m\u001b[0m\n\u001b[0;32m    692\u001b[0m             \u001b[1;31m# fit method of arity 2 (supervised transformation)\u001b[0m\u001b[1;33m\u001b[0m\u001b[1;33m\u001b[0m\u001b[1;33m\u001b[0m\u001b[0m\n",
      "\u001b[1;32m~\\anaconda3\\lib\\site-packages\\sklearn\\preprocessing\\_data.py\u001b[0m in \u001b[0;36mfit\u001b[1;34m(self, X, y)\u001b[0m\n\u001b[0;32m    665\u001b[0m         \u001b[1;31m# Reset internal state before fitting\u001b[0m\u001b[1;33m\u001b[0m\u001b[1;33m\u001b[0m\u001b[1;33m\u001b[0m\u001b[0m\n\u001b[0;32m    666\u001b[0m         \u001b[0mself\u001b[0m\u001b[1;33m.\u001b[0m\u001b[0m_reset\u001b[0m\u001b[1;33m(\u001b[0m\u001b[1;33m)\u001b[0m\u001b[1;33m\u001b[0m\u001b[1;33m\u001b[0m\u001b[0m\n\u001b[1;32m--> 667\u001b[1;33m         \u001b[1;32mreturn\u001b[0m \u001b[0mself\u001b[0m\u001b[1;33m.\u001b[0m\u001b[0mpartial_fit\u001b[0m\u001b[1;33m(\u001b[0m\u001b[0mX\u001b[0m\u001b[1;33m,\u001b[0m \u001b[0my\u001b[0m\u001b[1;33m)\u001b[0m\u001b[1;33m\u001b[0m\u001b[1;33m\u001b[0m\u001b[0m\n\u001b[0m\u001b[0;32m    668\u001b[0m \u001b[1;33m\u001b[0m\u001b[0m\n\u001b[0;32m    669\u001b[0m     \u001b[1;32mdef\u001b[0m \u001b[0mpartial_fit\u001b[0m\u001b[1;33m(\u001b[0m\u001b[0mself\u001b[0m\u001b[1;33m,\u001b[0m \u001b[0mX\u001b[0m\u001b[1;33m,\u001b[0m \u001b[0my\u001b[0m\u001b[1;33m=\u001b[0m\u001b[1;32mNone\u001b[0m\u001b[1;33m)\u001b[0m\u001b[1;33m:\u001b[0m\u001b[1;33m\u001b[0m\u001b[1;33m\u001b[0m\u001b[0m\n",
      "\u001b[1;32m~\\anaconda3\\lib\\site-packages\\sklearn\\preprocessing\\_data.py\u001b[0m in \u001b[0;36mpartial_fit\u001b[1;34m(self, X, y)\u001b[0m\n\u001b[0;32m    694\u001b[0m             \u001b[0mTransformer\u001b[0m \u001b[0minstance\u001b[0m\u001b[1;33m.\u001b[0m\u001b[1;33m\u001b[0m\u001b[1;33m\u001b[0m\u001b[0m\n\u001b[0;32m    695\u001b[0m         \"\"\"\n\u001b[1;32m--> 696\u001b[1;33m         X = self._validate_data(X, accept_sparse=('csr', 'csc'),\n\u001b[0m\u001b[0;32m    697\u001b[0m                                 \u001b[0mestimator\u001b[0m\u001b[1;33m=\u001b[0m\u001b[0mself\u001b[0m\u001b[1;33m,\u001b[0m \u001b[0mdtype\u001b[0m\u001b[1;33m=\u001b[0m\u001b[0mFLOAT_DTYPES\u001b[0m\u001b[1;33m,\u001b[0m\u001b[1;33m\u001b[0m\u001b[1;33m\u001b[0m\u001b[0m\n\u001b[0;32m    698\u001b[0m                                 force_all_finite='allow-nan')\n",
      "\u001b[1;32m~\\anaconda3\\lib\\site-packages\\sklearn\\base.py\u001b[0m in \u001b[0;36m_validate_data\u001b[1;34m(self, X, y, reset, validate_separately, **check_params)\u001b[0m\n\u001b[0;32m    418\u001b[0m                     \u001b[1;34mf\"requires y to be passed, but the target y is None.\"\u001b[0m\u001b[1;33m\u001b[0m\u001b[1;33m\u001b[0m\u001b[0m\n\u001b[0;32m    419\u001b[0m                 )\n\u001b[1;32m--> 420\u001b[1;33m             \u001b[0mX\u001b[0m \u001b[1;33m=\u001b[0m \u001b[0mcheck_array\u001b[0m\u001b[1;33m(\u001b[0m\u001b[0mX\u001b[0m\u001b[1;33m,\u001b[0m \u001b[1;33m**\u001b[0m\u001b[0mcheck_params\u001b[0m\u001b[1;33m)\u001b[0m\u001b[1;33m\u001b[0m\u001b[1;33m\u001b[0m\u001b[0m\n\u001b[0m\u001b[0;32m    421\u001b[0m             \u001b[0mout\u001b[0m \u001b[1;33m=\u001b[0m \u001b[0mX\u001b[0m\u001b[1;33m\u001b[0m\u001b[1;33m\u001b[0m\u001b[0m\n\u001b[0;32m    422\u001b[0m         \u001b[1;32melse\u001b[0m\u001b[1;33m:\u001b[0m\u001b[1;33m\u001b[0m\u001b[1;33m\u001b[0m\u001b[0m\n",
      "\u001b[1;32m~\\anaconda3\\lib\\site-packages\\sklearn\\utils\\validation.py\u001b[0m in \u001b[0;36minner_f\u001b[1;34m(*args, **kwargs)\u001b[0m\n\u001b[0;32m     71\u001b[0m                           FutureWarning)\n\u001b[0;32m     72\u001b[0m         \u001b[0mkwargs\u001b[0m\u001b[1;33m.\u001b[0m\u001b[0mupdate\u001b[0m\u001b[1;33m(\u001b[0m\u001b[1;33m{\u001b[0m\u001b[0mk\u001b[0m\u001b[1;33m:\u001b[0m \u001b[0marg\u001b[0m \u001b[1;32mfor\u001b[0m \u001b[0mk\u001b[0m\u001b[1;33m,\u001b[0m \u001b[0marg\u001b[0m \u001b[1;32min\u001b[0m \u001b[0mzip\u001b[0m\u001b[1;33m(\u001b[0m\u001b[0msig\u001b[0m\u001b[1;33m.\u001b[0m\u001b[0mparameters\u001b[0m\u001b[1;33m,\u001b[0m \u001b[0margs\u001b[0m\u001b[1;33m)\u001b[0m\u001b[1;33m}\u001b[0m\u001b[1;33m)\u001b[0m\u001b[1;33m\u001b[0m\u001b[1;33m\u001b[0m\u001b[0m\n\u001b[1;32m---> 73\u001b[1;33m         \u001b[1;32mreturn\u001b[0m \u001b[0mf\u001b[0m\u001b[1;33m(\u001b[0m\u001b[1;33m**\u001b[0m\u001b[0mkwargs\u001b[0m\u001b[1;33m)\u001b[0m\u001b[1;33m\u001b[0m\u001b[1;33m\u001b[0m\u001b[0m\n\u001b[0m\u001b[0;32m     74\u001b[0m     \u001b[1;32mreturn\u001b[0m \u001b[0minner_f\u001b[0m\u001b[1;33m\u001b[0m\u001b[1;33m\u001b[0m\u001b[0m\n\u001b[0;32m     75\u001b[0m \u001b[1;33m\u001b[0m\u001b[0m\n",
      "\u001b[1;32m~\\anaconda3\\lib\\site-packages\\sklearn\\utils\\validation.py\u001b[0m in \u001b[0;36mcheck_array\u001b[1;34m(array, accept_sparse, accept_large_sparse, dtype, order, copy, force_all_finite, ensure_2d, allow_nd, ensure_min_samples, ensure_min_features, estimator)\u001b[0m\n\u001b[0;32m    597\u001b[0m                     \u001b[0marray\u001b[0m \u001b[1;33m=\u001b[0m \u001b[0marray\u001b[0m\u001b[1;33m.\u001b[0m\u001b[0mastype\u001b[0m\u001b[1;33m(\u001b[0m\u001b[0mdtype\u001b[0m\u001b[1;33m,\u001b[0m \u001b[0mcasting\u001b[0m\u001b[1;33m=\u001b[0m\u001b[1;34m\"unsafe\"\u001b[0m\u001b[1;33m,\u001b[0m \u001b[0mcopy\u001b[0m\u001b[1;33m=\u001b[0m\u001b[1;32mFalse\u001b[0m\u001b[1;33m)\u001b[0m\u001b[1;33m\u001b[0m\u001b[1;33m\u001b[0m\u001b[0m\n\u001b[0;32m    598\u001b[0m                 \u001b[1;32melse\u001b[0m\u001b[1;33m:\u001b[0m\u001b[1;33m\u001b[0m\u001b[1;33m\u001b[0m\u001b[0m\n\u001b[1;32m--> 599\u001b[1;33m                     \u001b[0marray\u001b[0m \u001b[1;33m=\u001b[0m \u001b[0mnp\u001b[0m\u001b[1;33m.\u001b[0m\u001b[0masarray\u001b[0m\u001b[1;33m(\u001b[0m\u001b[0marray\u001b[0m\u001b[1;33m,\u001b[0m \u001b[0morder\u001b[0m\u001b[1;33m=\u001b[0m\u001b[0morder\u001b[0m\u001b[1;33m,\u001b[0m \u001b[0mdtype\u001b[0m\u001b[1;33m=\u001b[0m\u001b[0mdtype\u001b[0m\u001b[1;33m)\u001b[0m\u001b[1;33m\u001b[0m\u001b[1;33m\u001b[0m\u001b[0m\n\u001b[0m\u001b[0;32m    600\u001b[0m             \u001b[1;32mexcept\u001b[0m \u001b[0mComplexWarning\u001b[0m\u001b[1;33m:\u001b[0m\u001b[1;33m\u001b[0m\u001b[1;33m\u001b[0m\u001b[0m\n\u001b[0;32m    601\u001b[0m                 raise ValueError(\"Complex data not supported\\n\"\n",
      "\u001b[1;32m~\\anaconda3\\lib\\site-packages\\numpy\\core\\_asarray.py\u001b[0m in \u001b[0;36masarray\u001b[1;34m(a, dtype, order)\u001b[0m\n\u001b[0;32m     83\u001b[0m \u001b[1;33m\u001b[0m\u001b[0m\n\u001b[0;32m     84\u001b[0m     \"\"\"\n\u001b[1;32m---> 85\u001b[1;33m     \u001b[1;32mreturn\u001b[0m \u001b[0marray\u001b[0m\u001b[1;33m(\u001b[0m\u001b[0ma\u001b[0m\u001b[1;33m,\u001b[0m \u001b[0mdtype\u001b[0m\u001b[1;33m,\u001b[0m \u001b[0mcopy\u001b[0m\u001b[1;33m=\u001b[0m\u001b[1;32mFalse\u001b[0m\u001b[1;33m,\u001b[0m \u001b[0morder\u001b[0m\u001b[1;33m=\u001b[0m\u001b[0morder\u001b[0m\u001b[1;33m)\u001b[0m\u001b[1;33m\u001b[0m\u001b[1;33m\u001b[0m\u001b[0m\n\u001b[0m\u001b[0;32m     86\u001b[0m \u001b[1;33m\u001b[0m\u001b[0m\n\u001b[0;32m     87\u001b[0m \u001b[1;33m\u001b[0m\u001b[0m\n",
      "\u001b[1;31mValueError\u001b[0m: could not convert string to float: '#M'"
     ]
    }
   ],
   "source": [
    "from sklearn.preprocessing import StandardScaler\n",
    "sc = StandardScaler()\n",
    "X_train = sc.fit_transform(X_train)\n",
    "X_test = sc.transform(X_test)"
   ]
  },
  {
   "cell_type": "code",
   "execution_count": null,
   "metadata": {},
   "outputs": [],
   "source": []
  }
 ],
 "metadata": {
  "kernelspec": {
   "display_name": "Python 3",
   "language": "python",
   "name": "python3"
  },
  "language_info": {
   "codemirror_mode": {
    "name": "ipython",
    "version": 3
   },
   "file_extension": ".py",
   "mimetype": "text/x-python",
   "name": "python",
   "nbconvert_exporter": "python",
   "pygments_lexer": "ipython3",
   "version": "3.8.3"
  }
 },
 "nbformat": 4,
 "nbformat_minor": 4
}
