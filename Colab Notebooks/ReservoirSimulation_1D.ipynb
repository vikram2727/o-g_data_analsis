{
  "nbformat": 4,
  "nbformat_minor": 0,
  "metadata": {
    "colab": {
      "name": "ReservoirSimulation_1D.ipynb",
      "provenance": [],
      "collapsed_sections": [],
      "authorship_tag": "ABX9TyNFFMWzaBAPFYxYNEtb00pU",
      "include_colab_link": true
    },
    "kernelspec": {
      "name": "python3",
      "display_name": "Python 3"
    }
  },
  "cells": [
    {
      "cell_type": "markdown",
      "metadata": {
        "id": "view-in-github",
        "colab_type": "text"
      },
      "source": [
        "<a href=\"https://colab.research.google.com/github/Divyanshu-ISM/Oil-and-Gas-data-analysis/blob/master/ReservoirSimulation_1D.ipynb\" target=\"_parent\"><img src=\"https://colab.research.google.com/assets/colab-badge.svg\" alt=\"Open In Colab\"/></a>"
      ]
    },
    {
      "cell_type": "markdown",
      "metadata": {
        "id": "nbVSiRzJxGK8",
        "colab_type": "text"
      },
      "source": [
        "#1-D Block Centered Grid Based Reservoir Simulation\n",
        "\n",
        "divyanshu vyas | dvyas13ad@gmail.com\n",
        "\n",
        "Courtsey - T. Ertekin, Abou Kassem et al."
      ]
    },
    {
      "cell_type": "markdown",
      "metadata": {
        "id": "b8Fu-8JowAU7",
        "colab_type": "text"
      },
      "source": [
        "![Block-Centered Grid System](https://drive.google.com/uc?export=view&id=1jda8xs-TCi5NRMHunxsGFOi2Gzm4v_QH)\n",
        "\n"
      ]
    },
    {
      "cell_type": "markdown",
      "metadata": {
        "id": "Kq48WcOY1BS1",
        "colab_type": "text"
      },
      "source": [
        "## BOUNDARY CONDITIONS - No flow boundaries."
      ]
    },
    {
      "cell_type": "code",
      "metadata": {
        "id": "-Se7g-k2XyFp",
        "colab_type": "code",
        "colab": {}
      },
      "source": [
        "import numpy as np\n",
        "import pandas as pd\n",
        "import matplotlib.pyplot as plt\n",
        "%matplotlib inline"
      ],
      "execution_count": 5,
      "outputs": []
    },
    {
      "cell_type": "code",
      "metadata": {
        "id": "U_fjAYF6cbhb",
        "colab_type": "code",
        "colab": {}
      },
      "source": [
        "#Initialization\n",
        "\n",
        "# Pi = 6000\n",
        "\n",
        "dx = 1000\n",
        "dy = 1000\n",
        "dz = 75\n",
        "\n",
        "B = 1 #RB/STB\n",
        "c = 3.5*(10**(-6)) #psi-1\n",
        "\n",
        "kx = 15 #mD\n",
        "phi= 0.18\n",
        "\n",
        "mu = 10 #cp\n",
        "\n",
        "dt = 10 #days\n",
        "\n",
        "#Well Block index wb\n",
        "\n",
        "wb = 3 # 0,1,2,3 (block 4)"
      ],
      "execution_count": 59,
      "outputs": []
    },
    {
      "cell_type": "code",
      "metadata": {
        "id": "BtcD1bgFdU5A",
        "colab_type": "code",
        "colab": {}
      },
      "source": [
        "#Calclulation\n",
        "\n",
        "Ax = dy*dz #ft2\n",
        "\n",
        "Vb = dx*dy*dz #ft3\n",
        "\n",
        "qsc_wb = -150 #stb/d\n",
        "\n",
        "Tx = (0.001127)*(kx)*(Ax)/(mu*B*dx)\n",
        "\n",
        "M = 5.615*B*dt/Vb/phi/c\n"
      ],
      "execution_count": 60,
      "outputs": []
    },
    {
      "cell_type": "code",
      "metadata": {
        "id": "rwGuF4w3zr6H",
        "colab_type": "code",
        "colab": {
          "base_uri": "https://localhost:8080/",
          "height": 35
        },
        "outputId": "b1d3a72c-5770-4052-db6c-3569474788a0"
      },
      "source": [
        "#Creating a grid-block skeleton using numpy arrays.\n",
        "\n",
        "# P = np.ones(5)\n",
        "\n",
        "# P"
      ],
      "execution_count": 30,
      "outputs": [
        {
          "output_type": "execute_result",
          "data": {
            "text/plain": [
              "array([1., 1., 1., 1., 1.])"
            ]
          },
          "metadata": {
            "tags": []
          },
          "execution_count": 30
        }
      ]
    },
    {
      "cell_type": "code",
      "metadata": {
        "id": "dO3qNFkdvv2W",
        "colab_type": "code",
        "colab": {}
      },
      "source": [
        "#Initial Pressure in all Grid blocks - \n",
        "#Initial Time step means n=0\n",
        "\n",
        "# P_resp= []\n",
        "\n",
        "# P = P*6000 #psi\n",
        "\n",
        "# P_resp.append(P)\n"
      ],
      "execution_count": 31,
      "outputs": []
    },
    {
      "cell_type": "markdown",
      "metadata": {
        "id": "tPyo8mYAx25B",
        "colab_type": "text"
      },
      "source": [
        "Note that the space index varies from [0,5) as per python Nomenclature. \n",
        "\n",
        "Time steps vary from t = 0 days to t = 360 days."
      ]
    },
    {
      "cell_type": "code",
      "metadata": {
        "id": "aq6hZpeK5zbw",
        "colab_type": "code",
        "colab": {
          "base_uri": "https://localhost:8080/",
          "height": 35
        },
        "outputId": "3f1f8fef-5f4c-4519-a9f9-02416c92c906"
      },
      "source": [
        "t = np.arange(0,370,dt)\n",
        "# t\n",
        "len(t)"
      ],
      "execution_count": 77,
      "outputs": [
        {
          "output_type": "execute_result",
          "data": {
            "text/plain": [
              "37"
            ]
          },
          "metadata": {
            "tags": []
          },
          "execution_count": 77
        }
      ]
    },
    {
      "cell_type": "code",
      "metadata": {
        "id": "RCXGvWRavxAs",
        "colab_type": "code",
        "colab": {
          "base_uri": "https://localhost:8080/",
          "height": 35
        },
        "outputId": "8e43fbee-1666-4599-e84e-692efecc655c"
      },
      "source": [
        "# P_resp"
      ],
      "execution_count": 32,
      "outputs": [
        {
          "output_type": "execute_result",
          "data": {
            "text/plain": [
              "[array([6000., 6000., 6000., 6000., 6000.])]"
            ]
          },
          "metadata": {
            "tags": []
          },
          "execution_count": 32
        }
      ]
    },
    {
      "cell_type": "code",
      "metadata": {
        "id": "-5YvY8vt0NRH",
        "colab_type": "code",
        "colab": {}
      },
      "source": [
        "# | 0 | 1 | 2 | 3^ | 4 | ..... where 3^ means there's a production well in block index 3."
      ],
      "execution_count": 26,
      "outputs": []
    },
    {
      "cell_type": "code",
      "metadata": {
        "id": "X4KFiZhW0dJR",
        "colab_type": "code",
        "colab": {}
      },
      "source": [
        "# P = np.ones(5)\n",
        "# P = P*6000 #psi\n",
        "\n",
        "# #For n = 1 ie at the end of 10 days \n",
        "\n",
        "# qsc_0124 = 0\n",
        "# qsc_3 = -150\n",
        "\n",
        "# #GridBlock 0\n",
        "# P[0] = P[0] + M*qsc_0124 + M*(Tx*(P[1]-P[0]))\n",
        "\n",
        "# #Gridblock 1\n",
        "# P[1] = P[1] + M*qsc_0124 + M*( Tx*(P[0] - P[1]) + Tx*(P[2] - P[1]) )\n",
        "\n",
        "# #Gridblock 2\n",
        "# P[2] = P[2] + M*qsc_0124 + M*( Tx*(P[1] - P[2]) + Tx*(P[3] - P[2]) )\n",
        "\n",
        "# #GridBlock 4\n",
        "# P[4] = P[4] + M*qsc_0124 + M*(Tx*(P[3]-P[4]))\n",
        "\n",
        "# #Gridblock 3\n",
        "# P[3] = P[3] + M*qsc_3 + M*( Tx*(P[2] - P[3]) + Tx*(P[4] - P[3]) )\n",
        "\n",
        "\n",
        "\n",
        "\n",
        "\n",
        "# #So, when you do this step by step, seperately. Always execute and calculate \n",
        "# # the well block at the end.\n",
        "\n",
        "# #So this same procedure we can conduct for the entire time domain."
      ],
      "execution_count": 62,
      "outputs": []
    },
    {
      "cell_type": "code",
      "metadata": {
        "id": "5VlkPeah2VHG",
        "colab_type": "code",
        "colab": {}
      },
      "source": [
        "# P = np.ones(5)\n",
        "# P = P*6000 #psi\n",
        "\n",
        "# P_resp= []\n",
        "\n",
        "# P_resp.append(P)"
      ],
      "execution_count": 63,
      "outputs": []
    },
    {
      "cell_type": "code",
      "metadata": {
        "id": "7dRyzYQh2hiq",
        "colab_type": "code",
        "colab": {}
      },
      "source": [
        "# P"
      ],
      "execution_count": 65,
      "outputs": []
    },
    {
      "cell_type": "code",
      "metadata": {
        "id": "5Gf2UdcP6unU",
        "colab_type": "code",
        "colab": {}
      },
      "source": [
        "# list(range(len(P)))\n",
        "# list(range(1,len(P)-1))"
      ],
      "execution_count": 66,
      "outputs": []
    },
    {
      "cell_type": "code",
      "metadata": {
        "id": "vxDFrsMR66EV",
        "colab_type": "code",
        "colab": {}
      },
      "source": [
        "# P"
      ],
      "execution_count": 67,
      "outputs": []
    },
    {
      "cell_type": "code",
      "metadata": {
        "id": "QwGFK6arBU97",
        "colab_type": "code",
        "colab": {
          "base_uri": "https://localhost:8080/",
          "height": 35
        },
        "outputId": "b16fcf11-9dd7-4297-90f3-2a076703ef8c"
      },
      "source": [
        "P = np.ones(5)\n",
        "P = P*6000 #psi\n",
        "P"
      ],
      "execution_count": 71,
      "outputs": [
        {
          "output_type": "execute_result",
          "data": {
            "text/plain": [
              "array([6000., 6000., 6000., 6000., 6000.])"
            ]
          },
          "metadata": {
            "tags": []
          },
          "execution_count": 71
        }
      ]
    },
    {
      "cell_type": "code",
      "metadata": {
        "id": "TSQQIAJXEune",
        "colab_type": "code",
        "colab": {
          "base_uri": "https://localhost:8080/",
          "height": 35
        },
        "outputId": "f772f7fe-b878-4b9a-ae34-29cdcd44b689"
      },
      "source": [
        "# M*Tx"
      ],
      "execution_count": 74,
      "outputs": [
        {
          "output_type": "execute_result",
          "data": {
            "text/plain": [
              "0.1506691666666667"
            ]
          },
          "metadata": {
            "tags": []
          },
          "execution_count": 74
        }
      ]
    },
    {
      "cell_type": "code",
      "metadata": {
        "id": "EMSlzp-WOziO",
        "colab_type": "code",
        "colab": {}
      },
      "source": [
        "P_r = np.zeros((37,5))"
      ],
      "execution_count": 88,
      "outputs": []
    },
    {
      "cell_type": "code",
      "metadata": {
        "id": "rlaC_YnRPIiQ",
        "colab_type": "code",
        "colab": {
          "base_uri": "https://localhost:8080/",
          "height": 690
        },
        "outputId": "a99676c1-8a85-4e74-e008-16070b09915e"
      },
      "source": [
        "P_r[0] = np.ones(5)*6000\n",
        "\n",
        "P_r"
      ],
      "execution_count": 89,
      "outputs": [
        {
          "output_type": "execute_result",
          "data": {
            "text/plain": [
              "array([[6000., 6000., 6000., 6000., 6000.],\n",
              "       [   0.,    0.,    0.,    0.,    0.],\n",
              "       [   0.,    0.,    0.,    0.,    0.],\n",
              "       [   0.,    0.,    0.,    0.,    0.],\n",
              "       [   0.,    0.,    0.,    0.,    0.],\n",
              "       [   0.,    0.,    0.,    0.,    0.],\n",
              "       [   0.,    0.,    0.,    0.,    0.],\n",
              "       [   0.,    0.,    0.,    0.,    0.],\n",
              "       [   0.,    0.,    0.,    0.,    0.],\n",
              "       [   0.,    0.,    0.,    0.,    0.],\n",
              "       [   0.,    0.,    0.,    0.,    0.],\n",
              "       [   0.,    0.,    0.,    0.,    0.],\n",
              "       [   0.,    0.,    0.,    0.,    0.],\n",
              "       [   0.,    0.,    0.,    0.,    0.],\n",
              "       [   0.,    0.,    0.,    0.,    0.],\n",
              "       [   0.,    0.,    0.,    0.,    0.],\n",
              "       [   0.,    0.,    0.,    0.,    0.],\n",
              "       [   0.,    0.,    0.,    0.,    0.],\n",
              "       [   0.,    0.,    0.,    0.,    0.],\n",
              "       [   0.,    0.,    0.,    0.,    0.],\n",
              "       [   0.,    0.,    0.,    0.,    0.],\n",
              "       [   0.,    0.,    0.,    0.,    0.],\n",
              "       [   0.,    0.,    0.,    0.,    0.],\n",
              "       [   0.,    0.,    0.,    0.,    0.],\n",
              "       [   0.,    0.,    0.,    0.,    0.],\n",
              "       [   0.,    0.,    0.,    0.,    0.],\n",
              "       [   0.,    0.,    0.,    0.,    0.],\n",
              "       [   0.,    0.,    0.,    0.,    0.],\n",
              "       [   0.,    0.,    0.,    0.,    0.],\n",
              "       [   0.,    0.,    0.,    0.,    0.],\n",
              "       [   0.,    0.,    0.,    0.,    0.],\n",
              "       [   0.,    0.,    0.,    0.,    0.],\n",
              "       [   0.,    0.,    0.,    0.,    0.],\n",
              "       [   0.,    0.,    0.,    0.,    0.],\n",
              "       [   0.,    0.,    0.,    0.,    0.],\n",
              "       [   0.,    0.,    0.,    0.,    0.],\n",
              "       [   0.,    0.,    0.,    0.,    0.]])"
            ]
          },
          "metadata": {
            "tags": []
          },
          "execution_count": 89
        }
      ]
    },
    {
      "cell_type": "code",
      "metadata": {
        "id": "pCAmaRt5QYKR",
        "colab_type": "code",
        "colab": {
          "base_uri": "https://localhost:8080/",
          "height": 35
        },
        "outputId": "ffcfd411-18dc-41b1-fa65-16086c0f88ff"
      },
      "source": [
        "# P_r[4,4]"
      ],
      "execution_count": 91,
      "outputs": [
        {
          "output_type": "execute_result",
          "data": {
            "text/plain": [
              "0.0"
            ]
          },
          "metadata": {
            "tags": []
          },
          "execution_count": 91
        }
      ]
    },
    {
      "cell_type": "code",
      "metadata": {
        "id": "3iNoHS9z5lPE",
        "colab_type": "code",
        "colab": {}
      },
      "source": [
        "# P = np.ones(5)\n",
        "# P_o = P*6000 #psi\n",
        "\n",
        "wb = 3 #can ask user input as well.\n",
        "qsc = np.array([0,0,0,-150,0])\n",
        "# T = np.array([0,Tx,Tx,Tx,Tx,0])\n",
        "\n",
        "\n",
        "\n",
        "\n",
        "\n",
        "for j in range(1,len(t)):\n",
        "  \n",
        "  # P[0] = P[0] + M*qsc[0] + M*(Tx*(P[1] - P[0]))\n",
        "  # P[-1] = P[-1] + M*qsc[-1] + M*(Tx*(P[-2] - P[-1]))\n",
        "\n",
        "  for i in range(1, len(P)-1):\n",
        "    P_r[j,i] = P_r[j-1,i] + M*qsc[i] + M*(Tx*(P_r[j-1,i-1] - P_r[j-1,i]) + Tx*(P_r[j-1,i+1] - P_r[j-1,i]))\n",
        "  \n",
        "  \n",
        "  P_r[j,0] = P_r[j-1,0] +  M*qsc[0] + M*(Tx*(P_r[j-1,1] - P_r[j-1,0]))\n",
        "  P_r[j,-1]= P_r[j-1,-1] +  M*qsc[-1] + M*(Tx*(P_r[j-1,-2] - P_r[j-1,-1]))\n",
        "\n",
        "  \n",
        "\n",
        "  \n",
        "  # P[0] = P[0] + M*qsc[0] + M*(Tx*(P[1] - P[0]))\n",
        "  # P[] = P[-1] + M*qsc[-1] + M*(Tx*(P[-2] - P[-1]))\n",
        "\n",
        "  # P_resp.append(P)\n",
        "\n",
        "    \n",
        "\n",
        "    \n",
        "\n",
        "\n",
        "\n",
        "\n",
        "\n",
        "\n"
      ],
      "execution_count": 92,
      "outputs": []
    },
    {
      "cell_type": "code",
      "metadata": {
        "id": "bf4aH9109AXI",
        "colab_type": "code",
        "colab": {}
      },
      "source": [
        "P_response = pd.DataFrame(P_r)"
      ],
      "execution_count": 94,
      "outputs": []
    },
    {
      "cell_type": "code",
      "metadata": {
        "id": "cAdoFIsuSrur",
        "colab_type": "code",
        "colab": {}
      },
      "source": [
        "temp = P_response.copy()"
      ],
      "execution_count": 96,
      "outputs": []
    },
    {
      "cell_type": "code",
      "metadata": {
        "id": "leBd_1rE9CRr",
        "colab_type": "code",
        "colab": {}
      },
      "source": [
        "temp['Time(days)'] = t"
      ],
      "execution_count": 99,
      "outputs": []
    },
    {
      "cell_type": "code",
      "metadata": {
        "id": "wJhpAD2LSRCR",
        "colab_type": "code",
        "colab": {}
      },
      "source": [
        "temp = temp.drop('Time',axis=1)"
      ],
      "execution_count": 102,
      "outputs": []
    },
    {
      "cell_type": "code",
      "metadata": {
        "id": "gNB9K6FPTc9W",
        "colab_type": "code",
        "colab": {}
      },
      "source": [
        "temp.columns = ['0' , '1' , '2' , '3' , '4' , 'Time(days)']"
      ],
      "execution_count": 105,
      "outputs": []
    },
    {
      "cell_type": "code",
      "metadata": {
        "id": "1-HZwXGdTGy1",
        "colab_type": "code",
        "colab": {
          "base_uri": "https://localhost:8080/",
          "height": 410
        },
        "outputId": "78ed2ecf-6696-4cba-dee4-4c29f5759929"
      },
      "source": [
        "plt.style.use('default')\n",
        "\n",
        "# plt.title('Blockwise Pressure Variation')\n",
        "\n",
        "plt.figure(figsize=(10,4))\n",
        "\n",
        "plt.plot(temp['Time(days)'],temp['0'], label = 'Pr. Variation in Block #1',marker='o')\n",
        "plt.plot(temp['Time(days)'],temp['1'], label = 'Pr. Variation in Block #2',marker='x')\n",
        "plt.plot(temp['Time(days)'],temp['2'], label = 'Pr. Variation in Block #3',marker='D')\n",
        "plt.plot(temp['Time(days)'],temp['3'], label = 'Pr. Variation in Well-Block(4)',marker='*')\n",
        "plt.plot(temp['Time(days)'],temp['4'], label = 'Pr. Variation in Block #5',marker='s')\n",
        "\n",
        "\n",
        "plt.xlabel('Time(days)')\n",
        "plt.ylabel('Pressure(psia)')\n",
        "plt.title('Blockwise Pressure Variation')\n",
        "\n",
        "\n",
        "plt.legend(loc='best')\n",
        "plt.grid()"
      ],
      "execution_count": 112,
      "outputs": [
        {
          "output_type": "display_data",
          "data": {
            "image/png": "[encoded data removed]",
            "text/plain": [
              "<Figure size 1000x400 with 1 Axes>"
            ]
          },
          "metadata": {
            "tags": []
          }
        }
      ]
    },
    {
      "cell_type": "code",
      "metadata": {
        "id": "W3GJ78tVT41R",
        "colab_type": "code",
        "colab": {}
      },
      "source": [
        ""
      ],
      "execution_count": null,
      "outputs": []
    }
  ]
}