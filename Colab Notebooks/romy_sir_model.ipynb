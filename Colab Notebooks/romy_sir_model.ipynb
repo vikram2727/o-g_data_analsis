{
 "cells": [
  {
   "cell_type": "code",
   "execution_count": null,
   "metadata": {
    "colab": {
     "base_uri": "https://localhost:8080/",
     "height": 72,
     "resources": {
      "http://localhost:8080/nbextensions/google.colab/files.js": {
       "data": "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",
       "headers": [
        [
         "content-type",
         "application/javascript"
        ]
       ],
       "ok": true,
       "status": 200,
       "status_text": ""
      }
     }
    },
    "colab_type": "code",
    "executionInfo": {
     "elapsed": 43223,
     "status": "ok",
     "timestamp": 1600969467322,
     "user": {
      "displayName": "Aashish Malik",
      "photoUrl": "",
      "userId": "07599844556653027665"
     },
     "user_tz": -330
    },
    "id": "M5CeTF4T2Lk_",
    "outputId": "ed234213-367c-44a7-d716-984bcf8f659a"
   },
   "outputs": [
    {
     "data": {
      "text/html": [
       "\n",
       "     <input type=\"file\" id=\"files-f27df7cb-cfd5-490f-b06a-7b99607036ab\" name=\"files[]\" multiple disabled\n",
       "        style=\"border:none\" />\n",
       "     <output id=\"result-f27df7cb-cfd5-490f-b06a-7b99607036ab\">\n",
       "      Upload widget is only available when the cell has been executed in the\n",
       "      current browser session. Please rerun this cell to enable.\n",
       "      </output>\n",
       "      <script src=\"/nbextensions/google.colab/files.js\"></script> "
      ],
      "text/plain": [
       "<IPython.core.display.HTML object>"
      ]
     },
     "metadata": {
      "tags": []
     },
     "output_type": "display_data"
    },
    {
     "name": "stdout",
     "output_type": "stream",
     "text": [
      "Saving full_well_data.csv to full_well_data.csv\n"
     ]
    }
   ],
   "source": [
    "from google.colab import files\n",
    "uploaded=files.upload()"
   ]
  },
  {
   "cell_type": "code",
   "execution_count": null,
   "metadata": {
    "colab": {},
    "colab_type": "code",
    "id": "YU1D0N_O2q_u"
   },
   "outputs": [],
   "source": [
    "import pandas as pd\n",
    "import numpy as np"
   ]
  },
  {
   "cell_type": "code",
   "execution_count": null,
   "metadata": {
    "colab": {},
    "colab_type": "code",
    "id": "G__DWHnrPDF5"
   },
   "outputs": [],
   "source": [
    "data = pd.read_csv('well_data.csv')"
   ]
  },
  {
   "cell_type": "code",
   "execution_count": null,
   "metadata": {
    "colab": {
     "base_uri": "https://localhost:8080/",
     "height": 221
    },
    "colab_type": "code",
    "executionInfo": {
     "elapsed": 682,
     "status": "ok",
     "timestamp": 1600942224835,
     "user": {
      "displayName": "Aashish Malik",
      "photoUrl": "",
      "userId": "07599844556653027665"
     },
     "user_tz": -330
    },
    "id": "ZVzmu0WlPOcX",
    "outputId": "6f3fd231-ea66-4e93-d4c0-6fd421dbb97a"
   },
   "outputs": [
    {
     "data": {
      "text/html": [
       "<div>\n",
       "<style scoped>\n",
       "    .dataframe tbody tr th:only-of-type {\n",
       "        vertical-align: middle;\n",
       "    }\n",
       "\n",
       "    .dataframe tbody tr th {\n",
       "        vertical-align: top;\n",
       "    }\n",
       "\n",
       "    .dataframe thead th {\n",
       "        text-align: right;\n",
       "    }\n",
       "</style>\n",
       "<table border=\"1\" class=\"dataframe\">\n",
       "  <thead>\n",
       "    <tr style=\"text-align: right;\">\n",
       "      <th></th>\n",
       "      <th>Depth Index( ft )</th>\n",
       "      <th>ROPAvg (ft/hr )</th>\n",
       "      <th>WeightonBitMax (klb )</th>\n",
       "      <th>DiffPressure (psi )</th>\n",
       "      <th>SurfaceTorqueMax (ft-lb )</th>\n",
       "      <th>RPMA (rpm )</th>\n",
       "      <th>MudFlowInAvg (gpm )</th>\n",
       "      <th>MudFlowOutAvg (gpm )</th>\n",
       "      <th>PumpPressure (psi )</th>\n",
       "      <th>Unnamed: 9</th>\n",
       "    </tr>\n",
       "  </thead>\n",
       "  <tbody>\n",
       "    <tr>\n",
       "      <th>0</th>\n",
       "      <td>1000.5</td>\n",
       "      <td>2153.1</td>\n",
       "      <td>8.9</td>\n",
       "      <td>249.1</td>\n",
       "      <td>5859.5</td>\n",
       "      <td>110.0</td>\n",
       "      <td>1162.4</td>\n",
       "      <td>0.0</td>\n",
       "      <td>1996.2</td>\n",
       "      <td>NaN</td>\n",
       "    </tr>\n",
       "    <tr>\n",
       "      <th>1</th>\n",
       "      <td>1001.0</td>\n",
       "      <td>903.5</td>\n",
       "      <td>9.1</td>\n",
       "      <td>261.8</td>\n",
       "      <td>6892.6</td>\n",
       "      <td>110.0</td>\n",
       "      <td>1163.1</td>\n",
       "      <td>0.0</td>\n",
       "      <td>2118.6</td>\n",
       "      <td>NaN</td>\n",
       "    </tr>\n",
       "    <tr>\n",
       "      <th>2</th>\n",
       "      <td>1002.0</td>\n",
       "      <td>2883.8</td>\n",
       "      <td>8.6</td>\n",
       "      <td>248.4</td>\n",
       "      <td>6378.6</td>\n",
       "      <td>110.0</td>\n",
       "      <td>1163.1</td>\n",
       "      <td>0.0</td>\n",
       "      <td>1990.6</td>\n",
       "      <td>NaN</td>\n",
       "    </tr>\n",
       "    <tr>\n",
       "      <th>3</th>\n",
       "      <td>1002.5</td>\n",
       "      <td>3217.5</td>\n",
       "      <td>6.1</td>\n",
       "      <td>335.1</td>\n",
       "      <td>5628.2</td>\n",
       "      <td>110.0</td>\n",
       "      <td>1163.1</td>\n",
       "      <td>0.0</td>\n",
       "      <td>2132.2</td>\n",
       "      <td>NaN</td>\n",
       "    </tr>\n",
       "    <tr>\n",
       "      <th>4</th>\n",
       "      <td>1003.5</td>\n",
       "      <td>1850.2</td>\n",
       "      <td>11.2</td>\n",
       "      <td>448.7</td>\n",
       "      <td>5766.9</td>\n",
       "      <td>110.0</td>\n",
       "      <td>1162.4</td>\n",
       "      <td>0.0</td>\n",
       "      <td>2044.9</td>\n",
       "      <td>NaN</td>\n",
       "    </tr>\n",
       "  </tbody>\n",
       "</table>\n",
       "</div>"
      ],
      "text/plain": [
       "   Depth Index( ft )  ROPAvg (ft/hr )  ...  PumpPressure (psi )  Unnamed: 9\n",
       "0             1000.5           2153.1  ...               1996.2         NaN\n",
       "1             1001.0            903.5  ...               2118.6         NaN\n",
       "2             1002.0           2883.8  ...               1990.6         NaN\n",
       "3             1002.5           3217.5  ...               2132.2         NaN\n",
       "4             1003.5           1850.2  ...               2044.9         NaN\n",
       "\n",
       "[5 rows x 10 columns]"
      ]
     },
     "execution_count": 17,
     "metadata": {
      "tags": []
     },
     "output_type": "execute_result"
    }
   ],
   "source": [
    "data.head()"
   ]
  },
  {
   "cell_type": "code",
   "execution_count": null,
   "metadata": {
    "colab": {
     "base_uri": "https://localhost:8080/",
     "height": 102
    },
    "colab_type": "code",
    "executionInfo": {
     "elapsed": 1088,
     "status": "ok",
     "timestamp": 1600942226569,
     "user": {
      "displayName": "Aashish Malik",
      "photoUrl": "",
      "userId": "07599844556653027665"
     },
     "user_tz": -330
    },
    "id": "gSk6BLtQRAiY",
    "outputId": "bcff79af-6b6e-4ea0-f853-83bb1e2c0c25"
   },
   "outputs": [
    {
     "data": {
      "text/plain": [
       "Index(['Depth Index( ft )', 'ROPAvg (ft/hr )', 'WeightonBitMax (klb )',\n",
       "       'DiffPressure (psi )', 'SurfaceTorqueMax (ft-lb )', 'RPMA (rpm )',\n",
       "       'MudFlowInAvg (gpm )', 'MudFlowOutAvg (gpm )', 'PumpPressure (psi )',\n",
       "       'Unnamed: 9'],\n",
       "      dtype='object')"
      ]
     },
     "execution_count": 18,
     "metadata": {
      "tags": []
     },
     "output_type": "execute_result"
    }
   ],
   "source": [
    "data.columns"
   ]
  },
  {
   "cell_type": "code",
   "execution_count": null,
   "metadata": {
    "colab": {
     "base_uri": "https://localhost:8080/",
     "height": 221
    },
    "colab_type": "code",
    "executionInfo": {
     "elapsed": 837,
     "status": "ok",
     "timestamp": 1600942226925,
     "user": {
      "displayName": "Aashish Malik",
      "photoUrl": "",
      "userId": "07599844556653027665"
     },
     "user_tz": -330
    },
    "id": "MCmCDhA3PQ4V",
    "outputId": "9860518a-3e89-4761-d042-d6b0fd5d3c75"
   },
   "outputs": [
    {
     "data": {
      "text/html": [
       "<div>\n",
       "<style scoped>\n",
       "    .dataframe tbody tr th:only-of-type {\n",
       "        vertical-align: middle;\n",
       "    }\n",
       "\n",
       "    .dataframe tbody tr th {\n",
       "        vertical-align: top;\n",
       "    }\n",
       "\n",
       "    .dataframe thead th {\n",
       "        text-align: right;\n",
       "    }\n",
       "</style>\n",
       "<table border=\"1\" class=\"dataframe\">\n",
       "  <thead>\n",
       "    <tr style=\"text-align: right;\">\n",
       "      <th></th>\n",
       "      <th>Depth Index( ft )</th>\n",
       "      <th>ROPAvg (ft/hr )</th>\n",
       "      <th>WeightonBitMax (klb )</th>\n",
       "      <th>DiffPressure (psi )</th>\n",
       "      <th>SurfaceTorqueMax (ft-lb )</th>\n",
       "      <th>RPMA (rpm )</th>\n",
       "      <th>MudFlowInAvg (gpm )</th>\n",
       "      <th>MudFlowOutAvg (gpm )</th>\n",
       "      <th>PumpPressure (psi )</th>\n",
       "    </tr>\n",
       "  </thead>\n",
       "  <tbody>\n",
       "    <tr>\n",
       "      <th>0</th>\n",
       "      <td>1000.5</td>\n",
       "      <td>2153.1</td>\n",
       "      <td>8.9</td>\n",
       "      <td>249.1</td>\n",
       "      <td>5859.5</td>\n",
       "      <td>110.0</td>\n",
       "      <td>1162.4</td>\n",
       "      <td>0.0</td>\n",
       "      <td>1996.2</td>\n",
       "    </tr>\n",
       "    <tr>\n",
       "      <th>1</th>\n",
       "      <td>1001.0</td>\n",
       "      <td>903.5</td>\n",
       "      <td>9.1</td>\n",
       "      <td>261.8</td>\n",
       "      <td>6892.6</td>\n",
       "      <td>110.0</td>\n",
       "      <td>1163.1</td>\n",
       "      <td>0.0</td>\n",
       "      <td>2118.6</td>\n",
       "    </tr>\n",
       "    <tr>\n",
       "      <th>2</th>\n",
       "      <td>1002.0</td>\n",
       "      <td>2883.8</td>\n",
       "      <td>8.6</td>\n",
       "      <td>248.4</td>\n",
       "      <td>6378.6</td>\n",
       "      <td>110.0</td>\n",
       "      <td>1163.1</td>\n",
       "      <td>0.0</td>\n",
       "      <td>1990.6</td>\n",
       "    </tr>\n",
       "    <tr>\n",
       "      <th>3</th>\n",
       "      <td>1002.5</td>\n",
       "      <td>3217.5</td>\n",
       "      <td>6.1</td>\n",
       "      <td>335.1</td>\n",
       "      <td>5628.2</td>\n",
       "      <td>110.0</td>\n",
       "      <td>1163.1</td>\n",
       "      <td>0.0</td>\n",
       "      <td>2132.2</td>\n",
       "    </tr>\n",
       "    <tr>\n",
       "      <th>4</th>\n",
       "      <td>1003.5</td>\n",
       "      <td>1850.2</td>\n",
       "      <td>11.2</td>\n",
       "      <td>448.7</td>\n",
       "      <td>5766.9</td>\n",
       "      <td>110.0</td>\n",
       "      <td>1162.4</td>\n",
       "      <td>0.0</td>\n",
       "      <td>2044.9</td>\n",
       "    </tr>\n",
       "  </tbody>\n",
       "</table>\n",
       "</div>"
      ],
      "text/plain": [
       "   Depth Index( ft )  ...  PumpPressure (psi )\n",
       "0             1000.5  ...               1996.2\n",
       "1             1001.0  ...               2118.6\n",
       "2             1002.0  ...               1990.6\n",
       "3             1002.5  ...               2132.2\n",
       "4             1003.5  ...               2044.9\n",
       "\n",
       "[5 rows x 9 columns]"
      ]
     },
     "execution_count": 19,
     "metadata": {
      "tags": []
     },
     "output_type": "execute_result"
    }
   ],
   "source": [
    "data=data.drop(['Unnamed: 9'], axis=1)\n",
    "data.head()"
   ]
  },
  {
   "cell_type": "code",
   "execution_count": null,
   "metadata": {
    "colab": {
     "base_uri": "https://localhost:8080/",
     "height": 289
    },
    "colab_type": "code",
    "executionInfo": {
     "elapsed": 936,
     "status": "ok",
     "timestamp": 1600942228473,
     "user": {
      "displayName": "Aashish Malik",
      "photoUrl": "",
      "userId": "07599844556653027665"
     },
     "user_tz": -330
    },
    "id": "KpSWTOxBSmPd",
    "outputId": "0f66987d-acf1-4bb3-922b-6d02ed57af60"
   },
   "outputs": [
    {
     "name": "stdout",
     "output_type": "stream",
     "text": [
      "<class 'pandas.core.frame.DataFrame'>\n",
      "RangeIndex: 17012 entries, 0 to 17011\n",
      "Data columns (total 9 columns):\n",
      " #   Column                     Non-Null Count  Dtype  \n",
      "---  ------                     --------------  -----  \n",
      " 0   Depth Index( ft )          17012 non-null  float64\n",
      " 1   ROPAvg (ft/hr )            17012 non-null  float64\n",
      " 2   WeightonBitMax (klb )      17012 non-null  float64\n",
      " 3   DiffPressure (psi )        17012 non-null  float64\n",
      " 4   SurfaceTorqueMax (ft-lb )  17012 non-null  float64\n",
      " 5   RPMA (rpm )                17012 non-null  float64\n",
      " 6   MudFlowInAvg (gpm )        17012 non-null  float64\n",
      " 7   MudFlowOutAvg (gpm )       17012 non-null  float64\n",
      " 8   PumpPressure (psi )        17012 non-null  float64\n",
      "dtypes: float64(9)\n",
      "memory usage: 1.2 MB\n"
     ]
    }
   ],
   "source": [
    "data.info()"
   ]
  },
  {
   "cell_type": "code",
   "execution_count": null,
   "metadata": {
    "colab": {},
    "colab_type": "code",
    "id": "Bwu07G7dRJwm"
   },
   "outputs": [],
   "source": [
    "data.loc[(data['Depth Index( ft )']<1440), 'formation']=1\n",
    "data.loc[(data['Depth Index( ft )']>=1440)&(data['Depth Index( ft )']<3432), 'formation']=2\n",
    "data.loc[(data['Depth Index( ft )']>=3432)&(data['Depth Index( ft )']<3937), 'formation']=3\n",
    "data.loc[(data['Depth Index( ft )']>=3937)&(data['Depth Index( ft )']<4458), 'formation']=4\n",
    "data.loc[(data['Depth Index( ft )']>=4458)&(data['Depth Index( ft )']<5919), 'formation']=5\n",
    "data.loc[(data['Depth Index( ft )']>=5919)&(data['Depth Index( ft )']<10782), 'formation']=6\n",
    "data.loc[(data['Depth Index( ft )']>=10782)&(data['Depth Index( ft )']<10920), 'formation']=7\n",
    "data.loc[(data['Depth Index( ft )']>=10920)&(data['Depth Index( ft )']<10998), 'formation']=8\n",
    "data.loc[(data['Depth Index( ft )']>=10998)&(data['Depth Index( ft )']<11125), 'formation']=9\n",
    "data.loc[(data['Depth Index( ft )']>=11125)&(data['Depth Index( ft )']<11175), 'formation']=10\n",
    "data.loc[(data['Depth Index( ft )']>=11175), 'formation']=11"
   ]
  },
  {
   "cell_type": "code",
   "execution_count": null,
   "metadata": {
    "colab": {
     "base_uri": "https://localhost:8080/",
     "height": 221
    },
    "colab_type": "code",
    "executionInfo": {
     "elapsed": 900,
     "status": "ok",
     "timestamp": 1600942233353,
     "user": {
      "displayName": "Aashish Malik",
      "photoUrl": "",
      "userId": "07599844556653027665"
     },
     "user_tz": -330
    },
    "id": "E0BULfm0TRZE",
    "outputId": "5c2ab36d-ca4c-4045-b56e-dad668256a21"
   },
   "outputs": [
    {
     "data": {
      "text/html": [
       "<div>\n",
       "<style scoped>\n",
       "    .dataframe tbody tr th:only-of-type {\n",
       "        vertical-align: middle;\n",
       "    }\n",
       "\n",
       "    .dataframe tbody tr th {\n",
       "        vertical-align: top;\n",
       "    }\n",
       "\n",
       "    .dataframe thead th {\n",
       "        text-align: right;\n",
       "    }\n",
       "</style>\n",
       "<table border=\"1\" class=\"dataframe\">\n",
       "  <thead>\n",
       "    <tr style=\"text-align: right;\">\n",
       "      <th></th>\n",
       "      <th>Depth Index( ft )</th>\n",
       "      <th>ROPAvg (ft/hr )</th>\n",
       "      <th>WeightonBitMax (klb )</th>\n",
       "      <th>DiffPressure (psi )</th>\n",
       "      <th>SurfaceTorqueMax (ft-lb )</th>\n",
       "      <th>RPMA (rpm )</th>\n",
       "      <th>MudFlowInAvg (gpm )</th>\n",
       "      <th>MudFlowOutAvg (gpm )</th>\n",
       "      <th>PumpPressure (psi )</th>\n",
       "      <th>formation</th>\n",
       "    </tr>\n",
       "  </thead>\n",
       "  <tbody>\n",
       "    <tr>\n",
       "      <th>0</th>\n",
       "      <td>1000.5</td>\n",
       "      <td>2153.1</td>\n",
       "      <td>8.9</td>\n",
       "      <td>249.1</td>\n",
       "      <td>5859.5</td>\n",
       "      <td>110.0</td>\n",
       "      <td>1162.4</td>\n",
       "      <td>0.0</td>\n",
       "      <td>1996.2</td>\n",
       "      <td>1.0</td>\n",
       "    </tr>\n",
       "    <tr>\n",
       "      <th>1</th>\n",
       "      <td>1001.0</td>\n",
       "      <td>903.5</td>\n",
       "      <td>9.1</td>\n",
       "      <td>261.8</td>\n",
       "      <td>6892.6</td>\n",
       "      <td>110.0</td>\n",
       "      <td>1163.1</td>\n",
       "      <td>0.0</td>\n",
       "      <td>2118.6</td>\n",
       "      <td>1.0</td>\n",
       "    </tr>\n",
       "    <tr>\n",
       "      <th>2</th>\n",
       "      <td>1002.0</td>\n",
       "      <td>2883.8</td>\n",
       "      <td>8.6</td>\n",
       "      <td>248.4</td>\n",
       "      <td>6378.6</td>\n",
       "      <td>110.0</td>\n",
       "      <td>1163.1</td>\n",
       "      <td>0.0</td>\n",
       "      <td>1990.6</td>\n",
       "      <td>1.0</td>\n",
       "    </tr>\n",
       "    <tr>\n",
       "      <th>3</th>\n",
       "      <td>1002.5</td>\n",
       "      <td>3217.5</td>\n",
       "      <td>6.1</td>\n",
       "      <td>335.1</td>\n",
       "      <td>5628.2</td>\n",
       "      <td>110.0</td>\n",
       "      <td>1163.1</td>\n",
       "      <td>0.0</td>\n",
       "      <td>2132.2</td>\n",
       "      <td>1.0</td>\n",
       "    </tr>\n",
       "    <tr>\n",
       "      <th>4</th>\n",
       "      <td>1003.5</td>\n",
       "      <td>1850.2</td>\n",
       "      <td>11.2</td>\n",
       "      <td>448.7</td>\n",
       "      <td>5766.9</td>\n",
       "      <td>110.0</td>\n",
       "      <td>1162.4</td>\n",
       "      <td>0.0</td>\n",
       "      <td>2044.9</td>\n",
       "      <td>1.0</td>\n",
       "    </tr>\n",
       "  </tbody>\n",
       "</table>\n",
       "</div>"
      ],
      "text/plain": [
       "   Depth Index( ft )  ROPAvg (ft/hr )  ...  PumpPressure (psi )  formation\n",
       "0             1000.5           2153.1  ...               1996.2        1.0\n",
       "1             1001.0            903.5  ...               2118.6        1.0\n",
       "2             1002.0           2883.8  ...               1990.6        1.0\n",
       "3             1002.5           3217.5  ...               2132.2        1.0\n",
       "4             1003.5           1850.2  ...               2044.9        1.0\n",
       "\n",
       "[5 rows x 10 columns]"
      ]
     },
     "execution_count": 22,
     "metadata": {
      "tags": []
     },
     "output_type": "execute_result"
    }
   ],
   "source": [
    "data.head()"
   ]
  },
  {
   "cell_type": "code",
   "execution_count": null,
   "metadata": {
    "colab": {
     "base_uri": "https://localhost:8080/",
     "height": 314
    },
    "colab_type": "code",
    "executionInfo": {
     "elapsed": 585,
     "status": "ok",
     "timestamp": 1600942234332,
     "user": {
      "displayName": "Aashish Malik",
      "photoUrl": "",
      "userId": "07599844556653027665"
     },
     "user_tz": -330
    },
    "id": "9lqsKvwPUM1g",
    "outputId": "1ee1ced8-4d8b-44e6-f477-4d0ae909dc82"
   },
   "outputs": [
    {
     "data": {
      "text/html": [
       "<div>\n",
       "<style scoped>\n",
       "    .dataframe tbody tr th:only-of-type {\n",
       "        vertical-align: middle;\n",
       "    }\n",
       "\n",
       "    .dataframe tbody tr th {\n",
       "        vertical-align: top;\n",
       "    }\n",
       "\n",
       "    .dataframe thead th {\n",
       "        text-align: right;\n",
       "    }\n",
       "</style>\n",
       "<table border=\"1\" class=\"dataframe\">\n",
       "  <thead>\n",
       "    <tr style=\"text-align: right;\">\n",
       "      <th></th>\n",
       "      <th>Depth Index( ft )</th>\n",
       "      <th>ROPAvg (ft/hr )</th>\n",
       "      <th>WeightonBitMax (klb )</th>\n",
       "      <th>DiffPressure (psi )</th>\n",
       "      <th>SurfaceTorqueMax (ft-lb )</th>\n",
       "      <th>RPMA (rpm )</th>\n",
       "      <th>MudFlowInAvg (gpm )</th>\n",
       "      <th>MudFlowOutAvg (gpm )</th>\n",
       "      <th>PumpPressure (psi )</th>\n",
       "      <th>formation</th>\n",
       "    </tr>\n",
       "  </thead>\n",
       "  <tbody>\n",
       "    <tr>\n",
       "      <th>count</th>\n",
       "      <td>17012.000000</td>\n",
       "      <td>17012.000000</td>\n",
       "      <td>17012.000000</td>\n",
       "      <td>17012.000000</td>\n",
       "      <td>17012.000000</td>\n",
       "      <td>17012.000000</td>\n",
       "      <td>17012.000000</td>\n",
       "      <td>17012.0</td>\n",
       "      <td>17012.000000</td>\n",
       "      <td>17012.000000</td>\n",
       "    </tr>\n",
       "    <tr>\n",
       "      <th>mean</th>\n",
       "      <td>6861.016606</td>\n",
       "      <td>956.347067</td>\n",
       "      <td>28.499982</td>\n",
       "      <td>817.686368</td>\n",
       "      <td>10950.317881</td>\n",
       "      <td>75.882965</td>\n",
       "      <td>861.185516</td>\n",
       "      <td>0.0</td>\n",
       "      <td>3457.594586</td>\n",
       "      <td>5.428110</td>\n",
       "    </tr>\n",
       "    <tr>\n",
       "      <th>std</th>\n",
       "      <td>3144.440508</td>\n",
       "      <td>1278.789243</td>\n",
       "      <td>13.179973</td>\n",
       "      <td>374.423186</td>\n",
       "      <td>5328.752038</td>\n",
       "      <td>35.526072</td>\n",
       "      <td>229.117938</td>\n",
       "      <td>0.0</td>\n",
       "      <td>649.517964</td>\n",
       "      <td>2.468532</td>\n",
       "    </tr>\n",
       "    <tr>\n",
       "      <th>min</th>\n",
       "      <td>1000.500000</td>\n",
       "      <td>0.000000</td>\n",
       "      <td>0.000000</td>\n",
       "      <td>0.000000</td>\n",
       "      <td>0.000000</td>\n",
       "      <td>-79.000000</td>\n",
       "      <td>276.100000</td>\n",
       "      <td>0.0</td>\n",
       "      <td>629.900000</td>\n",
       "      <td>1.000000</td>\n",
       "    </tr>\n",
       "    <tr>\n",
       "      <th>25%</th>\n",
       "      <td>4234.250000</td>\n",
       "      <td>325.650000</td>\n",
       "      <td>20.700000</td>\n",
       "      <td>512.350000</td>\n",
       "      <td>7720.100000</td>\n",
       "      <td>70.000000</td>\n",
       "      <td>694.300000</td>\n",
       "      <td>0.0</td>\n",
       "      <td>3067.375000</td>\n",
       "      <td>4.000000</td>\n",
       "    </tr>\n",
       "    <tr>\n",
       "      <th>50%</th>\n",
       "      <td>6996.250000</td>\n",
       "      <td>574.400000</td>\n",
       "      <td>30.200000</td>\n",
       "      <td>855.950000</td>\n",
       "      <td>10942.800000</td>\n",
       "      <td>80.000000</td>\n",
       "      <td>694.800000</td>\n",
       "      <td>0.0</td>\n",
       "      <td>3568.350000</td>\n",
       "      <td>6.000000</td>\n",
       "    </tr>\n",
       "    <tr>\n",
       "      <th>75%</th>\n",
       "      <td>9615.125000</td>\n",
       "      <td>1065.225000</td>\n",
       "      <td>36.525000</td>\n",
       "      <td>1143.225000</td>\n",
       "      <td>14254.175000</td>\n",
       "      <td>109.000000</td>\n",
       "      <td>1162.400000</td>\n",
       "      <td>0.0</td>\n",
       "      <td>3898.100000</td>\n",
       "      <td>6.000000</td>\n",
       "    </tr>\n",
       "    <tr>\n",
       "      <th>max</th>\n",
       "      <td>12000.000000</td>\n",
       "      <td>19930.200000</td>\n",
       "      <td>69.400000</td>\n",
       "      <td>1700.800000</td>\n",
       "      <td>26984.300000</td>\n",
       "      <td>115.000000</td>\n",
       "      <td>1176.000000</td>\n",
       "      <td>0.0</td>\n",
       "      <td>5143.600000</td>\n",
       "      <td>11.000000</td>\n",
       "    </tr>\n",
       "  </tbody>\n",
       "</table>\n",
       "</div>"
      ],
      "text/plain": [
       "       Depth Index( ft )  ROPAvg (ft/hr )  ...  PumpPressure (psi )     formation\n",
       "count       17012.000000     17012.000000  ...         17012.000000  17012.000000\n",
       "mean         6861.016606       956.347067  ...          3457.594586      5.428110\n",
       "std          3144.440508      1278.789243  ...           649.517964      2.468532\n",
       "min          1000.500000         0.000000  ...           629.900000      1.000000\n",
       "25%          4234.250000       325.650000  ...          3067.375000      4.000000\n",
       "50%          6996.250000       574.400000  ...          3568.350000      6.000000\n",
       "75%          9615.125000      1065.225000  ...          3898.100000      6.000000\n",
       "max         12000.000000     19930.200000  ...          5143.600000     11.000000\n",
       "\n",
       "[8 rows x 10 columns]"
      ]
     },
     "execution_count": 23,
     "metadata": {
      "tags": []
     },
     "output_type": "execute_result"
    }
   ],
   "source": [
    "data.describe()"
   ]
  },
  {
   "cell_type": "code",
   "execution_count": null,
   "metadata": {
    "colab": {
     "base_uri": "https://localhost:8080/",
     "height": 306
    },
    "colab_type": "code",
    "executionInfo": {
     "elapsed": 1416,
     "status": "ok",
     "timestamp": 1600942236234,
     "user": {
      "displayName": "Aashish Malik",
      "photoUrl": "",
      "userId": "07599844556653027665"
     },
     "user_tz": -330
    },
    "id": "TZm1SPsyUczN",
    "outputId": "8cf25310-4e85-41c8-a676-734c16bae9dc"
   },
   "outputs": [
    {
     "name": "stdout",
     "output_type": "stream",
     "text": [
      "<class 'pandas.core.frame.DataFrame'>\n",
      "RangeIndex: 17012 entries, 0 to 17011\n",
      "Data columns (total 10 columns):\n",
      " #   Column                     Non-Null Count  Dtype  \n",
      "---  ------                     --------------  -----  \n",
      " 0   Depth Index( ft )          17012 non-null  float64\n",
      " 1   ROPAvg (ft/hr )            17012 non-null  float64\n",
      " 2   WeightonBitMax (klb )      17012 non-null  float64\n",
      " 3   DiffPressure (psi )        17012 non-null  float64\n",
      " 4   SurfaceTorqueMax (ft-lb )  17012 non-null  float64\n",
      " 5   RPMA (rpm )                17012 non-null  float64\n",
      " 6   MudFlowInAvg (gpm )        17012 non-null  float64\n",
      " 7   MudFlowOutAvg (gpm )       17012 non-null  float64\n",
      " 8   PumpPressure (psi )        17012 non-null  float64\n",
      " 9   formation                  17012 non-null  float64\n",
      "dtypes: float64(10)\n",
      "memory usage: 1.3 MB\n"
     ]
    }
   ],
   "source": [
    "data.info()"
   ]
  },
  {
   "cell_type": "code",
   "execution_count": null,
   "metadata": {
    "colab": {
     "base_uri": "https://localhost:8080/",
     "height": 17
    },
    "colab_type": "code",
    "executionInfo": {
     "elapsed": 4832,
     "status": "ok",
     "timestamp": 1600942418084,
     "user": {
      "displayName": "Aashish Malik",
      "photoUrl": "",
      "userId": "07599844556653027665"
     },
     "user_tz": -330
    },
    "id": "as3RRzwLWUdM",
    "outputId": "d484c87c-c450-42da-9909-3f9ede2b9453"
   },
   "outputs": [
    {
     "data": {
      "application/javascript": [
       "\n",
       "    async function download(id, filename, size) {\n",
       "      if (!google.colab.kernel.accessAllowed) {\n",
       "        return;\n",
       "      }\n",
       "      const div = document.createElement('div');\n",
       "      const label = document.createElement('label');\n",
       "      label.textContent = `Downloading \"${filename}\": `;\n",
       "      div.appendChild(label);\n",
       "      const progress = document.createElement('progress');\n",
       "      progress.max = size;\n",
       "      div.appendChild(progress);\n",
       "      document.body.appendChild(div);\n",
       "\n",
       "      const buffers = [];\n",
       "      let downloaded = 0;\n",
       "\n",
       "      const channel = await google.colab.kernel.comms.open(id);\n",
       "      // Send a message to notify the kernel that we're ready.\n",
       "      channel.send({})\n",
       "\n",
       "      for await (const message of channel.messages) {\n",
       "        // Send a message to notify the kernel that we're ready.\n",
       "        channel.send({})\n",
       "        if (message.buffers) {\n",
       "          for (const buffer of message.buffers) {\n",
       "            buffers.push(buffer);\n",
       "            downloaded += buffer.byteLength;\n",
       "            progress.value = downloaded;\n",
       "          }\n",
       "        }\n",
       "      }\n",
       "      const blob = new Blob(buffers, {type: 'application/binary'});\n",
       "      const a = document.createElement('a');\n",
       "      a.href = window.URL.createObjectURL(blob);\n",
       "      a.download = filename;\n",
       "      div.appendChild(a);\n",
       "      a.click();\n",
       "      div.remove();\n",
       "    }\n",
       "  "
      ],
      "text/plain": [
       "<IPython.core.display.Javascript object>"
      ]
     },
     "metadata": {
      "tags": []
     },
     "output_type": "display_data"
    },
    {
     "data": {
      "application/javascript": [
       "download(\"download_12636306-1e4e-4440-afe5-bd207ceea468\", \"full_well_data.csv\", 1002566)"
      ],
      "text/plain": [
       "<IPython.core.display.Javascript object>"
      ]
     },
     "metadata": {
      "tags": []
     },
     "output_type": "display_data"
    }
   ],
   "source": [
    "data.to_csv('full_well_data.csv', index=False)\n",
    "downloaded=files.download('full_well_data.csv')"
   ]
  },
  {
   "cell_type": "code",
   "execution_count": null,
   "metadata": {
    "colab": {},
    "colab_type": "code",
    "id": "zAcAPmcqmpU6"
   },
   "outputs": [],
   "source": [
    "import pandas as pd\n",
    "import numpy as np\n",
    "from sklearn.metrics import confusion_matrix\n",
    "from sklearn.metrics import accuracy_score\n",
    "from sklearn.utils import shuffle\n",
    "from keras.models import Sequential\n",
    "from keras.layers import Dense\n",
    "from keras.wrappers.scikit_learn import KerasClassifier\n",
    "from keras.utils import np_utils\n",
    "from sklearn.model_selection import cross_val_score\n",
    "from sklearn.model_selection import KFold\n",
    "from sklearn.preprocessing import LabelEncoder\n",
    "from sklearn.pipeline import Pipeline\n",
    "from sklearn.model_selection import train_test_split\n",
    "\n",
    "data = pd.read_csv('full_well_data.csv')\n",
    "from sklearn.preprocessing import StandardScaler"
   ]
  },
  {
   "cell_type": "code",
   "execution_count": null,
   "metadata": {
    "colab": {
     "base_uri": "https://localhost:8080/",
     "height": 221
    },
    "colab_type": "code",
    "executionInfo": {
     "elapsed": 735,
     "status": "ok",
     "timestamp": 1600971652181,
     "user": {
      "displayName": "Aashish Malik",
      "photoUrl": "",
      "userId": "07599844556653027665"
     },
     "user_tz": -330
    },
    "id": "RtX39qiEOTGx",
    "outputId": "07f8163c-3872-4b67-9ed2-5616d4c6133c"
   },
   "outputs": [
    {
     "data": {
      "text/html": [
       "<div>\n",
       "<style scoped>\n",
       "    .dataframe tbody tr th:only-of-type {\n",
       "        vertical-align: middle;\n",
       "    }\n",
       "\n",
       "    .dataframe tbody tr th {\n",
       "        vertical-align: top;\n",
       "    }\n",
       "\n",
       "    .dataframe thead th {\n",
       "        text-align: right;\n",
       "    }\n",
       "</style>\n",
       "<table border=\"1\" class=\"dataframe\">\n",
       "  <thead>\n",
       "    <tr style=\"text-align: right;\">\n",
       "      <th></th>\n",
       "      <th>Depth Index( ft )</th>\n",
       "      <th>ROPAvg (ft/hr )</th>\n",
       "      <th>WeightonBitMax (klb )</th>\n",
       "      <th>DiffPressure (psi )</th>\n",
       "      <th>SurfaceTorqueMax (ft-lb )</th>\n",
       "      <th>RPMA (rpm )</th>\n",
       "      <th>MudFlowInAvg (gpm )</th>\n",
       "      <th>MudFlowOutAvg (gpm )</th>\n",
       "      <th>PumpPressure (psi )</th>\n",
       "      <th>formation</th>\n",
       "    </tr>\n",
       "  </thead>\n",
       "  <tbody>\n",
       "    <tr>\n",
       "      <th>9836</th>\n",
       "      <td>7828.5</td>\n",
       "      <td>747.1</td>\n",
       "      <td>32.3</td>\n",
       "      <td>1190.7</td>\n",
       "      <td>11050.7</td>\n",
       "      <td>71.0</td>\n",
       "      <td>694.5</td>\n",
       "      <td>0.0</td>\n",
       "      <td>3768.7</td>\n",
       "      <td>6.0</td>\n",
       "    </tr>\n",
       "    <tr>\n",
       "      <th>2846</th>\n",
       "      <td>3216.0</td>\n",
       "      <td>974.3</td>\n",
       "      <td>20.2</td>\n",
       "      <td>342.3</td>\n",
       "      <td>12155.8</td>\n",
       "      <td>111.0</td>\n",
       "      <td>1162.4</td>\n",
       "      <td>0.0</td>\n",
       "      <td>2993.9</td>\n",
       "      <td>2.0</td>\n",
       "    </tr>\n",
       "    <tr>\n",
       "      <th>13910</th>\n",
       "      <td>10300.0</td>\n",
       "      <td>400.8</td>\n",
       "      <td>38.1</td>\n",
       "      <td>1285.1</td>\n",
       "      <td>13235.2</td>\n",
       "      <td>80.0</td>\n",
       "      <td>694.3</td>\n",
       "      <td>0.0</td>\n",
       "      <td>4444.0</td>\n",
       "      <td>6.0</td>\n",
       "    </tr>\n",
       "    <tr>\n",
       "      <th>1592</th>\n",
       "      <td>2288.0</td>\n",
       "      <td>512.4</td>\n",
       "      <td>8.9</td>\n",
       "      <td>233.6</td>\n",
       "      <td>0.0</td>\n",
       "      <td>0.0</td>\n",
       "      <td>1163.1</td>\n",
       "      <td>0.0</td>\n",
       "      <td>2237.8</td>\n",
       "      <td>2.0</td>\n",
       "    </tr>\n",
       "    <tr>\n",
       "      <th>10822</th>\n",
       "      <td>8443.5</td>\n",
       "      <td>200.2</td>\n",
       "      <td>25.9</td>\n",
       "      <td>1254.9</td>\n",
       "      <td>9344.3</td>\n",
       "      <td>80.0</td>\n",
       "      <td>693.8</td>\n",
       "      <td>0.0</td>\n",
       "      <td>3799.1</td>\n",
       "      <td>6.0</td>\n",
       "    </tr>\n",
       "  </tbody>\n",
       "</table>\n",
       "</div>"
      ],
      "text/plain": [
       "       Depth Index( ft )  ROPAvg (ft/hr )  ...  PumpPressure (psi )  formation\n",
       "9836              7828.5            747.1  ...               3768.7        6.0\n",
       "2846              3216.0            974.3  ...               2993.9        2.0\n",
       "13910            10300.0            400.8  ...               4444.0        6.0\n",
       "1592              2288.0            512.4  ...               2237.8        2.0\n",
       "10822             8443.5            200.2  ...               3799.1        6.0\n",
       "\n",
       "[5 rows x 10 columns]"
      ]
     },
     "execution_count": 70,
     "metadata": {
      "tags": []
     },
     "output_type": "execute_result"
    }
   ],
   "source": [
    "data=shuffle(data)\n",
    "data.head()"
   ]
  },
  {
   "cell_type": "code",
   "execution_count": null,
   "metadata": {
    "colab": {},
    "colab_type": "code",
    "id": "WDMLhaj1xE4o"
   },
   "outputs": [],
   "source": [
    "data_x=data.iloc[:, 1:9].values\n",
    "data_y=data.iloc[:, 9].values"
   ]
  },
  {
   "cell_type": "code",
   "execution_count": null,
   "metadata": {
    "colab": {},
    "colab_type": "code",
    "id": "62051lupyFSp"
   },
   "outputs": [],
   "source": [
    "encoder = LabelEncoder()\n",
    "y=encoder.fit_transform(data_y)"
   ]
  },
  {
   "cell_type": "code",
   "execution_count": null,
   "metadata": {
    "colab": {},
    "colab_type": "code",
    "id": "XnaCJP_SRRx8"
   },
   "outputs": [],
   "source": [
    "X_train, X_test, y_train, y_test=train_test_split(data_x, y, test_size=0.25, random_state=42)"
   ]
  },
  {
   "cell_type": "code",
   "execution_count": null,
   "metadata": {
    "colab": {},
    "colab_type": "code",
    "id": "PEtduqicRlWp"
   },
   "outputs": [],
   "source": [
    "scaler=StandardScaler()\n",
    "X_train=scaler.fit_transform(X_train)"
   ]
  },
  {
   "cell_type": "code",
   "execution_count": null,
   "metadata": {
    "colab": {},
    "colab_type": "code",
    "id": "FOcc8aeRyTKw"
   },
   "outputs": [],
   "source": [
    "cat_y = np_utils.to_categorical(y_train)"
   ]
  },
  {
   "cell_type": "code",
   "execution_count": null,
   "metadata": {
    "colab": {},
    "colab_type": "code",
    "id": "IjPrkyD6y-j8"
   },
   "outputs": [],
   "source": [
    "tr_x=X_train[:9759]\n",
    "val_x=X_train[9759:]\n",
    "tr_y=cat_y[:9759]\n",
    "val_y=cat_y[9759:]"
   ]
  },
  {
   "cell_type": "code",
   "execution_count": null,
   "metadata": {
    "colab": {
     "base_uri": "https://localhost:8080/",
     "height": 1000
    },
    "colab_type": "code",
    "executionInfo": {
     "elapsed": 19921,
     "status": "ok",
     "timestamp": 1600971676484,
     "user": {
      "displayName": "Aashish Malik",
      "photoUrl": "",
      "userId": "07599844556653027665"
     },
     "user_tz": -330
    },
    "id": "jwjQNvXGyh41",
    "outputId": "3e396a5a-ddf3-4c14-e7bc-2198ed88ebee"
   },
   "outputs": [
    {
     "name": "stdout",
     "output_type": "stream",
     "text": [
      "Epoch 1/50\n",
      "305/305 [==============================] - 0s 2ms/step - loss: 1.4129 - accuracy: 0.6385 - val_loss: 0.9087 - val_accuracy: 0.7403\n",
      "Epoch 2/50\n",
      "305/305 [==============================] - 0s 1ms/step - loss: 0.7802 - accuracy: 0.7609 - val_loss: 0.7251 - val_accuracy: 0.7700\n",
      "Epoch 3/50\n",
      "305/305 [==============================] - 0s 1ms/step - loss: 0.6647 - accuracy: 0.7787 - val_loss: 0.6482 - val_accuracy: 0.7793\n",
      "Epoch 4/50\n",
      "305/305 [==============================] - 0s 1ms/step - loss: 0.6030 - accuracy: 0.7900 - val_loss: 0.5970 - val_accuracy: 0.7840\n",
      "Epoch 5/50\n",
      "305/305 [==============================] - 0s 1ms/step - loss: 0.5595 - accuracy: 0.8000 - val_loss: 0.5580 - val_accuracy: 0.7947\n",
      "Epoch 6/50\n",
      "305/305 [==============================] - 0s 1ms/step - loss: 0.5266 - accuracy: 0.8109 - val_loss: 0.5293 - val_accuracy: 0.8090\n",
      "Epoch 7/50\n",
      "305/305 [==============================] - 0s 1ms/step - loss: 0.5008 - accuracy: 0.8199 - val_loss: 0.5059 - val_accuracy: 0.8140\n",
      "Epoch 8/50\n",
      "305/305 [==============================] - 0s 1ms/step - loss: 0.4810 - accuracy: 0.8281 - val_loss: 0.4875 - val_accuracy: 0.8170\n",
      "Epoch 9/50\n",
      "305/305 [==============================] - 0s 1ms/step - loss: 0.4656 - accuracy: 0.8330 - val_loss: 0.4723 - val_accuracy: 0.8263\n",
      "Epoch 10/50\n",
      "305/305 [==============================] - 0s 1ms/step - loss: 0.4519 - accuracy: 0.8378 - val_loss: 0.4600 - val_accuracy: 0.8283\n",
      "Epoch 11/50\n",
      "305/305 [==============================] - 0s 1ms/step - loss: 0.4410 - accuracy: 0.8400 - val_loss: 0.4514 - val_accuracy: 0.8297\n",
      "Epoch 12/50\n",
      "305/305 [==============================] - 0s 1ms/step - loss: 0.4317 - accuracy: 0.8451 - val_loss: 0.4418 - val_accuracy: 0.8367\n",
      "Epoch 13/50\n",
      "305/305 [==============================] - 0s 1ms/step - loss: 0.4233 - accuracy: 0.8483 - val_loss: 0.4334 - val_accuracy: 0.8397\n",
      "Epoch 14/50\n",
      "305/305 [==============================] - 0s 1ms/step - loss: 0.4169 - accuracy: 0.8498 - val_loss: 0.4295 - val_accuracy: 0.8403\n",
      "Epoch 15/50\n",
      "305/305 [==============================] - 0s 1ms/step - loss: 0.4101 - accuracy: 0.8537 - val_loss: 0.4253 - val_accuracy: 0.8370\n",
      "Epoch 16/50\n",
      "305/305 [==============================] - 0s 1ms/step - loss: 0.4047 - accuracy: 0.8554 - val_loss: 0.4185 - val_accuracy: 0.8400\n",
      "Epoch 17/50\n",
      "305/305 [==============================] - 0s 1ms/step - loss: 0.4001 - accuracy: 0.8571 - val_loss: 0.4138 - val_accuracy: 0.8480\n",
      "Epoch 18/50\n",
      "305/305 [==============================] - 0s 1ms/step - loss: 0.3956 - accuracy: 0.8588 - val_loss: 0.4103 - val_accuracy: 0.8480\n",
      "Epoch 19/50\n",
      "305/305 [==============================] - 0s 1ms/step - loss: 0.3918 - accuracy: 0.8603 - val_loss: 0.4067 - val_accuracy: 0.8457\n",
      "Epoch 20/50\n",
      "305/305 [==============================] - 0s 1ms/step - loss: 0.3875 - accuracy: 0.8618 - val_loss: 0.4048 - val_accuracy: 0.8463\n",
      "Epoch 21/50\n",
      "305/305 [==============================] - 0s 1ms/step - loss: 0.3845 - accuracy: 0.8620 - val_loss: 0.4002 - val_accuracy: 0.8453\n",
      "Epoch 22/50\n",
      "305/305 [==============================] - 0s 1ms/step - loss: 0.3805 - accuracy: 0.8653 - val_loss: 0.3997 - val_accuracy: 0.8490\n",
      "Epoch 23/50\n",
      "305/305 [==============================] - 0s 1ms/step - loss: 0.3781 - accuracy: 0.8649 - val_loss: 0.3970 - val_accuracy: 0.8457\n",
      "Epoch 24/50\n",
      "305/305 [==============================] - 0s 1ms/step - loss: 0.3750 - accuracy: 0.8667 - val_loss: 0.3986 - val_accuracy: 0.8460\n",
      "Epoch 25/50\n",
      "305/305 [==============================] - 0s 1ms/step - loss: 0.3727 - accuracy: 0.8678 - val_loss: 0.3922 - val_accuracy: 0.8493\n",
      "Epoch 26/50\n",
      "305/305 [==============================] - 0s 1ms/step - loss: 0.3701 - accuracy: 0.8675 - val_loss: 0.3920 - val_accuracy: 0.8510\n",
      "Epoch 27/50\n",
      "305/305 [==============================] - 0s 1ms/step - loss: 0.3682 - accuracy: 0.8691 - val_loss: 0.3962 - val_accuracy: 0.8490\n",
      "Epoch 28/50\n",
      "305/305 [==============================] - 0s 1ms/step - loss: 0.3666 - accuracy: 0.8682 - val_loss: 0.3905 - val_accuracy: 0.8473\n",
      "Epoch 29/50\n",
      "305/305 [==============================] - 0s 1ms/step - loss: 0.3650 - accuracy: 0.8687 - val_loss: 0.3858 - val_accuracy: 0.8533\n",
      "Epoch 30/50\n",
      "305/305 [==============================] - 0s 1ms/step - loss: 0.3634 - accuracy: 0.8720 - val_loss: 0.3852 - val_accuracy: 0.8527\n",
      "Epoch 31/50\n",
      "305/305 [==============================] - 0s 1ms/step - loss: 0.3609 - accuracy: 0.8718 - val_loss: 0.3843 - val_accuracy: 0.8487\n",
      "Epoch 32/50\n",
      "305/305 [==============================] - 0s 1ms/step - loss: 0.3604 - accuracy: 0.8706 - val_loss: 0.3830 - val_accuracy: 0.8513\n",
      "Epoch 33/50\n",
      "305/305 [==============================] - 0s 1ms/step - loss: 0.3589 - accuracy: 0.8708 - val_loss: 0.3815 - val_accuracy: 0.8500\n",
      "Epoch 34/50\n",
      "305/305 [==============================] - 0s 1ms/step - loss: 0.3574 - accuracy: 0.8721 - val_loss: 0.3802 - val_accuracy: 0.8533\n",
      "Epoch 35/50\n",
      "305/305 [==============================] - 0s 1ms/step - loss: 0.3566 - accuracy: 0.8712 - val_loss: 0.3796 - val_accuracy: 0.8533\n",
      "Epoch 36/50\n",
      "305/305 [==============================] - 0s 1ms/step - loss: 0.3552 - accuracy: 0.8727 - val_loss: 0.3788 - val_accuracy: 0.8510\n",
      "Epoch 37/50\n",
      "305/305 [==============================] - 0s 1ms/step - loss: 0.3544 - accuracy: 0.8726 - val_loss: 0.3791 - val_accuracy: 0.8533\n",
      "Epoch 38/50\n",
      "305/305 [==============================] - 0s 1ms/step - loss: 0.3535 - accuracy: 0.8743 - val_loss: 0.3764 - val_accuracy: 0.8540\n",
      "Epoch 39/50\n",
      "305/305 [==============================] - 0s 1ms/step - loss: 0.3519 - accuracy: 0.8756 - val_loss: 0.3749 - val_accuracy: 0.8547\n",
      "Epoch 40/50\n",
      "305/305 [==============================] - 0s 1ms/step - loss: 0.3507 - accuracy: 0.8760 - val_loss: 0.3766 - val_accuracy: 0.8533\n",
      "Epoch 41/50\n",
      "305/305 [==============================] - 0s 1ms/step - loss: 0.3501 - accuracy: 0.8752 - val_loss: 0.3749 - val_accuracy: 0.8540\n",
      "Epoch 42/50\n",
      "305/305 [==============================] - 0s 1ms/step - loss: 0.3494 - accuracy: 0.8763 - val_loss: 0.3776 - val_accuracy: 0.8550\n",
      "Epoch 43/50\n",
      "305/305 [==============================] - 0s 1ms/step - loss: 0.3491 - accuracy: 0.8752 - val_loss: 0.3749 - val_accuracy: 0.8560\n",
      "Epoch 44/50\n",
      "305/305 [==============================] - 0s 1ms/step - loss: 0.3480 - accuracy: 0.8751 - val_loss: 0.3747 - val_accuracy: 0.8527\n",
      "Epoch 45/50\n",
      "305/305 [==============================] - 0s 1ms/step - loss: 0.3469 - accuracy: 0.8761 - val_loss: 0.3725 - val_accuracy: 0.8587\n",
      "Epoch 46/50\n",
      "305/305 [==============================] - 0s 1ms/step - loss: 0.3465 - accuracy: 0.8764 - val_loss: 0.3692 - val_accuracy: 0.8567\n",
      "Epoch 47/50\n",
      "305/305 [==============================] - 0s 1ms/step - loss: 0.3448 - accuracy: 0.8771 - val_loss: 0.3701 - val_accuracy: 0.8540\n",
      "Epoch 48/50\n",
      "305/305 [==============================] - 0s 1ms/step - loss: 0.3440 - accuracy: 0.8774 - val_loss: 0.3704 - val_accuracy: 0.8557\n",
      "Epoch 49/50\n",
      "305/305 [==============================] - 0s 1ms/step - loss: 0.3441 - accuracy: 0.8770 - val_loss: 0.3705 - val_accuracy: 0.8553\n",
      "Epoch 50/50\n",
      "305/305 [==============================] - 0s 1ms/step - loss: 0.3423 - accuracy: 0.8767 - val_loss: 0.3706 - val_accuracy: 0.8553\n"
     ]
    },
    {
     "data": {
      "text/plain": [
       "<tensorflow.python.keras.callbacks.History at 0x7efe5367a6a0>"
      ]
     },
     "execution_count": 77,
     "metadata": {
      "tags": []
     },
     "output_type": "execute_result"
    }
   ],
   "source": [
    "# create model\n",
    "model = Sequential()\n",
    "model.add(Dense(20, input_dim=8, activation='relu'))\n",
    "model.add(Dense(11, activation='softmax'))\n",
    "# Compile model\n",
    "model.compile(loss='categorical_crossentropy', optimizer='adam', metrics=['accuracy'])\n",
    "model.fit(tr_x, tr_y, epochs=50, validation_data=(val_x, val_y))"
   ]
  },
  {
   "cell_type": "code",
   "execution_count": null,
   "metadata": {
    "colab": {},
    "colab_type": "code",
    "id": "YgexR17LzlZg"
   },
   "outputs": [],
   "source": [
    "X_test=scaler.fit_transform(X_test)"
   ]
  },
  {
   "cell_type": "code",
   "execution_count": null,
   "metadata": {
    "colab": {},
    "colab_type": "code",
    "id": "ifH44oG9R33K"
   },
   "outputs": [],
   "source": [
    "predicted=model.predict_classes(X_test)"
   ]
  },
  {
   "cell_type": "code",
   "execution_count": null,
   "metadata": {
    "colab": {
     "base_uri": "https://localhost:8080/",
     "height": 34
    },
    "colab_type": "code",
    "executionInfo": {
     "elapsed": 16979,
     "status": "ok",
     "timestamp": 1600971676488,
     "user": {
      "displayName": "Aashish Malik",
      "photoUrl": "",
      "userId": "07599844556653027665"
     },
     "user_tz": -330
    },
    "id": "u7IQmHXeTM0Q",
    "outputId": "5ae79ea3-7010-4352-eca8-034377a54f70"
   },
   "outputs": [
    {
     "data": {
      "text/plain": [
       "0.8730308017869739"
      ]
     },
     "execution_count": 80,
     "metadata": {
      "tags": []
     },
     "output_type": "execute_result"
    }
   ],
   "source": [
    "accuracy_score(y_test, predicted)"
   ]
  },
  {
   "cell_type": "code",
   "execution_count": null,
   "metadata": {
    "colab": {
     "base_uri": "https://localhost:8080/",
     "height": 204
    },
    "colab_type": "code",
    "executionInfo": {
     "elapsed": 15857,
     "status": "ok",
     "timestamp": 1600971676489,
     "user": {
      "displayName": "Aashish Malik",
      "photoUrl": "",
      "userId": "07599844556653027665"
     },
     "user_tz": -330
    },
    "id": "ZAbBTVBMTgMs",
    "outputId": "80a2a00d-4b90-43e1-c3bc-6d80f714139f"
   },
   "outputs": [
    {
     "data": {
      "text/plain": [
       "array([[  58,   65,    0,    0,    0,    0,    0,    0,    0,    0,    0],\n",
       "       [   4,  587,   18,   19,   17,    0,    0,    0,    0,    0,    0],\n",
       "       [   0,   53,   70,   17,   11,    0,    0,    0,    0,    0,    0],\n",
       "       [   0,    8,   19,  120,   53,    0,    0,    0,    0,    0,    0],\n",
       "       [   0,    8,    3,   39,  403,   86,    0,    0,    0,    0,    1],\n",
       "       [   0,    0,    0,    0,    3, 1984,    5,    0,    0,    1,   11],\n",
       "       [   0,    0,    0,    0,    0,    8,   61,    0,    0,    0,    1],\n",
       "       [   0,    0,    0,    0,    0,    1,    8,   24,    2,    0,    4],\n",
       "       [   0,    0,    0,    0,    0,    0,    2,    5,   26,    0,   23],\n",
       "       [   0,    0,    0,    0,    0,    0,    1,    0,    2,    7,   10],\n",
       "       [   0,    0,    0,    0,    0,   14,    5,    1,    9,    3,  373]])"
      ]
     },
     "execution_count": 81,
     "metadata": {
      "tags": []
     },
     "output_type": "execute_result"
    }
   ],
   "source": [
    "confusion_matrix(y_test, predicted)"
   ]
  },
  {
   "cell_type": "code",
   "execution_count": null,
   "metadata": {
    "colab": {},
    "colab_type": "code",
    "id": "NvVdbN7tVERE"
   },
   "outputs": [],
   "source": []
  }
 ],
 "metadata": {
  "colab": {
   "authorship_tag": "ABX9TyMu5h9+kB5TujZUSblS5tzY",
   "collapsed_sections": [],
   "name": "romy_sir_model.ipynb",
   "provenance": []
  },
  "kernelspec": {
   "display_name": "Python 3",
   "language": "python",
   "name": "python3"
  },
  "language_info": {
   "codemirror_mode": {
    "name": "ipython",
    "version": 3
   },
   "file_extension": ".py",
   "mimetype": "text/x-python",
   "name": "python",
   "nbconvert_exporter": "python",
   "pygments_lexer": "ipython3",
   "version": "3.8.3"
  }
 },
 "nbformat": 4,
 "nbformat_minor": 1
}
